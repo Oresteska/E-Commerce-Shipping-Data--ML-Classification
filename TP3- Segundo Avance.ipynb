{
 "cells": [
  {
   "cell_type": "markdown",
   "id": "7c669a45",
   "metadata": {},
   "source": [
    "### Importamos librerias"
   ]
  },
  {
   "cell_type": "code",
   "execution_count": 41,
   "id": "40d8699c",
   "metadata": {},
   "outputs": [],
   "source": [
    "import pandas as pd\n",
    "import numpy as np"
   ]
  },
  {
   "cell_type": "code",
   "execution_count": 42,
   "id": "cb59999e",
   "metadata": {},
   "outputs": [],
   "source": [
    "import seaborn as sns\n",
    "import matplotlib.pyplot as plt"
   ]
  },
  {
   "cell_type": "code",
   "execution_count": 43,
   "id": "43011892",
   "metadata": {},
   "outputs": [],
   "source": [
    "from sklearn.preprocessing import StandardScaler\n",
    "from sklearn.model_selection import train_test_split,KFold,cross_val_score"
   ]
  },
  {
   "cell_type": "code",
   "execution_count": 44,
   "id": "c1fc4cfc",
   "metadata": {},
   "outputs": [],
   "source": [
    "from sklearn.linear_model import LogisticRegression\n",
    "from sklearn.neighbors import KNeighborsClassifier\n",
    "from sklearn.naive_bayes import GaussianNB\n",
    "from sklearn.naive_bayes import CategoricalNB"
   ]
  },
  {
   "cell_type": "code",
   "execution_count": 45,
   "id": "3844d685",
   "metadata": {},
   "outputs": [],
   "source": [
    "from sklearn import metrics\n",
    "from sklearn.metrics import classification_report\n",
    "from sklearn.metrics import confusion_matrix\n",
    "from sklearn.metrics import accuracy_score"
   ]
  },
  {
   "cell_type": "code",
   "execution_count": 46,
   "id": "91da7472",
   "metadata": {},
   "outputs": [],
   "source": [
    "#no se que onda esta\n",
    "#import warnings\n",
    "#warnings.filterwarnings('ignore')"
   ]
  },
  {
   "cell_type": "markdown",
   "id": "d401824c",
   "metadata": {},
   "source": [
    "### Estilo"
   ]
  },
  {
   "cell_type": "code",
   "execution_count": 47,
   "id": "98010c02",
   "metadata": {},
   "outputs": [],
   "source": [
    "sns.set()\n",
    "plt.style.use('classic')\n",
    "sns.mpl.rcParams['axes.titlesize'] = 20\n",
    "sns.mpl.rcParams['axes.labelsize'] = 18"
   ]
  },
  {
   "cell_type": "markdown",
   "id": "c619298a",
   "metadata": {},
   "source": [
    "### Dataset"
   ]
  },
  {
   "cell_type": "markdown",
   "id": "ff688fe6",
   "metadata": {},
   "source": [
    "Autor: PRACHI GOPALANI"
   ]
  },
  {
   "cell_type": "code",
   "execution_count": 48,
   "id": "13daf260",
   "metadata": {},
   "outputs": [],
   "source": [
    "# levantando el csv de Train\n",
    "data = pd.read_csv('Train.csv')"
   ]
  },
  {
   "cell_type": "code",
   "execution_count": 49,
   "id": "034b1bf1",
   "metadata": {},
   "outputs": [
    {
     "data": {
      "text/html": [
       "<div>\n",
       "<style scoped>\n",
       "    .dataframe tbody tr th:only-of-type {\n",
       "        vertical-align: middle;\n",
       "    }\n",
       "\n",
       "    .dataframe tbody tr th {\n",
       "        vertical-align: top;\n",
       "    }\n",
       "\n",
       "    .dataframe thead th {\n",
       "        text-align: right;\n",
       "    }\n",
       "</style>\n",
       "<table border=\"1\" class=\"dataframe\">\n",
       "  <thead>\n",
       "    <tr style=\"text-align: right;\">\n",
       "      <th></th>\n",
       "      <th>ID</th>\n",
       "      <th>Warehouse_block</th>\n",
       "      <th>Mode_of_Shipment</th>\n",
       "      <th>Customer_care_calls</th>\n",
       "      <th>Customer_rating</th>\n",
       "      <th>Cost_of_the_Product</th>\n",
       "      <th>Prior_purchases</th>\n",
       "      <th>Product_importance</th>\n",
       "      <th>Gender</th>\n",
       "      <th>Discount_offered</th>\n",
       "      <th>Weight_in_gms</th>\n",
       "      <th>Reached.on.Time_Y.N</th>\n",
       "    </tr>\n",
       "  </thead>\n",
       "  <tbody>\n",
       "    <tr>\n",
       "      <th>0</th>\n",
       "      <td>1</td>\n",
       "      <td>D</td>\n",
       "      <td>Flight</td>\n",
       "      <td>4</td>\n",
       "      <td>2</td>\n",
       "      <td>177</td>\n",
       "      <td>3</td>\n",
       "      <td>low</td>\n",
       "      <td>F</td>\n",
       "      <td>44</td>\n",
       "      <td>1233</td>\n",
       "      <td>1</td>\n",
       "    </tr>\n",
       "    <tr>\n",
       "      <th>1</th>\n",
       "      <td>2</td>\n",
       "      <td>F</td>\n",
       "      <td>Flight</td>\n",
       "      <td>4</td>\n",
       "      <td>5</td>\n",
       "      <td>216</td>\n",
       "      <td>2</td>\n",
       "      <td>low</td>\n",
       "      <td>M</td>\n",
       "      <td>59</td>\n",
       "      <td>3088</td>\n",
       "      <td>1</td>\n",
       "    </tr>\n",
       "    <tr>\n",
       "      <th>2</th>\n",
       "      <td>3</td>\n",
       "      <td>A</td>\n",
       "      <td>Flight</td>\n",
       "      <td>2</td>\n",
       "      <td>2</td>\n",
       "      <td>183</td>\n",
       "      <td>4</td>\n",
       "      <td>low</td>\n",
       "      <td>M</td>\n",
       "      <td>48</td>\n",
       "      <td>3374</td>\n",
       "      <td>1</td>\n",
       "    </tr>\n",
       "    <tr>\n",
       "      <th>3</th>\n",
       "      <td>4</td>\n",
       "      <td>B</td>\n",
       "      <td>Flight</td>\n",
       "      <td>3</td>\n",
       "      <td>3</td>\n",
       "      <td>176</td>\n",
       "      <td>4</td>\n",
       "      <td>medium</td>\n",
       "      <td>M</td>\n",
       "      <td>10</td>\n",
       "      <td>1177</td>\n",
       "      <td>1</td>\n",
       "    </tr>\n",
       "    <tr>\n",
       "      <th>4</th>\n",
       "      <td>5</td>\n",
       "      <td>C</td>\n",
       "      <td>Flight</td>\n",
       "      <td>2</td>\n",
       "      <td>2</td>\n",
       "      <td>184</td>\n",
       "      <td>3</td>\n",
       "      <td>medium</td>\n",
       "      <td>F</td>\n",
       "      <td>46</td>\n",
       "      <td>2484</td>\n",
       "      <td>1</td>\n",
       "    </tr>\n",
       "  </tbody>\n",
       "</table>\n",
       "</div>"
      ],
      "text/plain": [
       "   ID Warehouse_block Mode_of_Shipment  Customer_care_calls  Customer_rating  \\\n",
       "0   1               D           Flight                    4                2   \n",
       "1   2               F           Flight                    4                5   \n",
       "2   3               A           Flight                    2                2   \n",
       "3   4               B           Flight                    3                3   \n",
       "4   5               C           Flight                    2                2   \n",
       "\n",
       "   Cost_of_the_Product  Prior_purchases Product_importance Gender  \\\n",
       "0                  177                3                low      F   \n",
       "1                  216                2                low      M   \n",
       "2                  183                4                low      M   \n",
       "3                  176                4             medium      M   \n",
       "4                  184                3             medium      F   \n",
       "\n",
       "   Discount_offered  Weight_in_gms  Reached.on.Time_Y.N  \n",
       "0                44           1233                    1  \n",
       "1                59           3088                    1  \n",
       "2                48           3374                    1  \n",
       "3                10           1177                    1  \n",
       "4                46           2484                    1  "
      ]
     },
     "execution_count": 49,
     "metadata": {},
     "output_type": "execute_result"
    }
   ],
   "source": [
    "data.head()"
   ]
  },
  {
   "cell_type": "code",
   "execution_count": 50,
   "id": "9d56a1d4",
   "metadata": {},
   "outputs": [],
   "source": [
    "data = data.rename(columns={'Reached.on.Time_Y.N': 'On_time'})"
   ]
  },
  {
   "cell_type": "code",
   "execution_count": 51,
   "id": "447815de",
   "metadata": {
    "scrolled": true
   },
   "outputs": [
    {
     "data": {
      "text/html": [
       "<div>\n",
       "<style scoped>\n",
       "    .dataframe tbody tr th:only-of-type {\n",
       "        vertical-align: middle;\n",
       "    }\n",
       "\n",
       "    .dataframe tbody tr th {\n",
       "        vertical-align: top;\n",
       "    }\n",
       "\n",
       "    .dataframe thead th {\n",
       "        text-align: right;\n",
       "    }\n",
       "</style>\n",
       "<table border=\"1\" class=\"dataframe\">\n",
       "  <thead>\n",
       "    <tr style=\"text-align: right;\">\n",
       "      <th></th>\n",
       "      <th>ID</th>\n",
       "      <th>Warehouse_block</th>\n",
       "      <th>Mode_of_Shipment</th>\n",
       "      <th>Customer_care_calls</th>\n",
       "      <th>Customer_rating</th>\n",
       "      <th>Cost_of_the_Product</th>\n",
       "      <th>Prior_purchases</th>\n",
       "      <th>Product_importance</th>\n",
       "      <th>Gender</th>\n",
       "      <th>Discount_offered</th>\n",
       "      <th>Weight_in_gms</th>\n",
       "      <th>On_time</th>\n",
       "    </tr>\n",
       "  </thead>\n",
       "  <tbody>\n",
       "    <tr>\n",
       "      <th>0</th>\n",
       "      <td>1</td>\n",
       "      <td>D</td>\n",
       "      <td>Flight</td>\n",
       "      <td>4</td>\n",
       "      <td>2</td>\n",
       "      <td>177</td>\n",
       "      <td>3</td>\n",
       "      <td>low</td>\n",
       "      <td>F</td>\n",
       "      <td>44</td>\n",
       "      <td>1233</td>\n",
       "      <td>1</td>\n",
       "    </tr>\n",
       "    <tr>\n",
       "      <th>1</th>\n",
       "      <td>2</td>\n",
       "      <td>F</td>\n",
       "      <td>Flight</td>\n",
       "      <td>4</td>\n",
       "      <td>5</td>\n",
       "      <td>216</td>\n",
       "      <td>2</td>\n",
       "      <td>low</td>\n",
       "      <td>M</td>\n",
       "      <td>59</td>\n",
       "      <td>3088</td>\n",
       "      <td>1</td>\n",
       "    </tr>\n",
       "    <tr>\n",
       "      <th>2</th>\n",
       "      <td>3</td>\n",
       "      <td>A</td>\n",
       "      <td>Flight</td>\n",
       "      <td>2</td>\n",
       "      <td>2</td>\n",
       "      <td>183</td>\n",
       "      <td>4</td>\n",
       "      <td>low</td>\n",
       "      <td>M</td>\n",
       "      <td>48</td>\n",
       "      <td>3374</td>\n",
       "      <td>1</td>\n",
       "    </tr>\n",
       "    <tr>\n",
       "      <th>3</th>\n",
       "      <td>4</td>\n",
       "      <td>B</td>\n",
       "      <td>Flight</td>\n",
       "      <td>3</td>\n",
       "      <td>3</td>\n",
       "      <td>176</td>\n",
       "      <td>4</td>\n",
       "      <td>medium</td>\n",
       "      <td>M</td>\n",
       "      <td>10</td>\n",
       "      <td>1177</td>\n",
       "      <td>1</td>\n",
       "    </tr>\n",
       "    <tr>\n",
       "      <th>4</th>\n",
       "      <td>5</td>\n",
       "      <td>C</td>\n",
       "      <td>Flight</td>\n",
       "      <td>2</td>\n",
       "      <td>2</td>\n",
       "      <td>184</td>\n",
       "      <td>3</td>\n",
       "      <td>medium</td>\n",
       "      <td>F</td>\n",
       "      <td>46</td>\n",
       "      <td>2484</td>\n",
       "      <td>1</td>\n",
       "    </tr>\n",
       "  </tbody>\n",
       "</table>\n",
       "</div>"
      ],
      "text/plain": [
       "   ID Warehouse_block Mode_of_Shipment  Customer_care_calls  Customer_rating  \\\n",
       "0   1               D           Flight                    4                2   \n",
       "1   2               F           Flight                    4                5   \n",
       "2   3               A           Flight                    2                2   \n",
       "3   4               B           Flight                    3                3   \n",
       "4   5               C           Flight                    2                2   \n",
       "\n",
       "   Cost_of_the_Product  Prior_purchases Product_importance Gender  \\\n",
       "0                  177                3                low      F   \n",
       "1                  216                2                low      M   \n",
       "2                  183                4                low      M   \n",
       "3                  176                4             medium      M   \n",
       "4                  184                3             medium      F   \n",
       "\n",
       "   Discount_offered  Weight_in_gms  On_time  \n",
       "0                44           1233        1  \n",
       "1                59           3088        1  \n",
       "2                48           3374        1  \n",
       "3                10           1177        1  \n",
       "4                46           2484        1  "
      ]
     },
     "execution_count": 51,
     "metadata": {},
     "output_type": "execute_result"
    }
   ],
   "source": [
    "data.head()"
   ]
  },
  {
   "cell_type": "markdown",
   "id": "dd2b5698",
   "metadata": {},
   "source": [
    "Importante aclarar lo siguiente: \"On time: it is the target variable, \n",
    "where 1 Indicates that the product has NOT reached on time and 0 indicates it has reached on time.\""
   ]
  },
  {
   "cell_type": "markdown",
   "id": "1beabade",
   "metadata": {},
   "source": [
    "### Funciones"
   ]
  },
  {
   "cell_type": "code",
   "execution_count": 52,
   "id": "f9bf2fb1",
   "metadata": {},
   "outputs": [],
   "source": [
    "def basic_EDA(data) :\n",
    "    u'''\n",
    "    Basic EDA routine for this practice\n",
    "    '''\n",
    "    \n",
    "    print()\n",
    "    print(\"Observaciones\", data.shape[0], \"Features\", data.shape[1])\n",
    "    display(data.head(5))\n",
    "    \n",
    "    print()\n",
    "    print(\"Descripción de las features\")\n",
    "    display(data.describe())\n",
    "    \n",
    "    print()\n",
    "    print(\"Valores nulos\")\n",
    "    display(data.isnull().sum())\n",
    "    \n",
    "    print()\n",
    "    print(\"Tipos de dato\")\n",
    "    display(data.dtypes)\n",
    "    \n",
    "    print()\n",
    "    print(\"Cantidad de valores únicos\")\n",
    "    for i in data.columns:\n",
    "        print(i,data[i].nunique())\n",
    "\n",
    "    # La característica Score_point es del tipo objet y presenta valores no numéricos\n",
    "    # al no contar con información sobre su significado se elimina del dataset\n",
    "    #data.drop('Score_point', axis=1, inplace=True)\n",
    "\n",
    "    # to have more legibility\n",
    "    #data['label_means'] = data['label'].map({0 : 'insolvency', 1 : 'pay credit'})\n",
    "    \n",
    "    # to have more legibility\n",
    "    data['On_time_means'] = data['On_time'].map({0 : 'on_time', 1 : 'delayed'})  \n",
    "    \n",
    "    return data"
   ]
  },
  {
   "cell_type": "markdown",
   "id": "2f9b645e",
   "metadata": {},
   "source": [
    "#### EDA (Exploratory Data Analysis)"
   ]
  },
  {
   "cell_type": "code",
   "execution_count": 53,
   "id": "ffbf51aa",
   "metadata": {
    "scrolled": false
   },
   "outputs": [
    {
     "name": "stdout",
     "output_type": "stream",
     "text": [
      "\n",
      "Observaciones 10999 Features 12\n"
     ]
    },
    {
     "data": {
      "text/html": [
       "<div>\n",
       "<style scoped>\n",
       "    .dataframe tbody tr th:only-of-type {\n",
       "        vertical-align: middle;\n",
       "    }\n",
       "\n",
       "    .dataframe tbody tr th {\n",
       "        vertical-align: top;\n",
       "    }\n",
       "\n",
       "    .dataframe thead th {\n",
       "        text-align: right;\n",
       "    }\n",
       "</style>\n",
       "<table border=\"1\" class=\"dataframe\">\n",
       "  <thead>\n",
       "    <tr style=\"text-align: right;\">\n",
       "      <th></th>\n",
       "      <th>ID</th>\n",
       "      <th>Warehouse_block</th>\n",
       "      <th>Mode_of_Shipment</th>\n",
       "      <th>Customer_care_calls</th>\n",
       "      <th>Customer_rating</th>\n",
       "      <th>Cost_of_the_Product</th>\n",
       "      <th>Prior_purchases</th>\n",
       "      <th>Product_importance</th>\n",
       "      <th>Gender</th>\n",
       "      <th>Discount_offered</th>\n",
       "      <th>Weight_in_gms</th>\n",
       "      <th>On_time</th>\n",
       "    </tr>\n",
       "  </thead>\n",
       "  <tbody>\n",
       "    <tr>\n",
       "      <th>0</th>\n",
       "      <td>1</td>\n",
       "      <td>D</td>\n",
       "      <td>Flight</td>\n",
       "      <td>4</td>\n",
       "      <td>2</td>\n",
       "      <td>177</td>\n",
       "      <td>3</td>\n",
       "      <td>low</td>\n",
       "      <td>F</td>\n",
       "      <td>44</td>\n",
       "      <td>1233</td>\n",
       "      <td>1</td>\n",
       "    </tr>\n",
       "    <tr>\n",
       "      <th>1</th>\n",
       "      <td>2</td>\n",
       "      <td>F</td>\n",
       "      <td>Flight</td>\n",
       "      <td>4</td>\n",
       "      <td>5</td>\n",
       "      <td>216</td>\n",
       "      <td>2</td>\n",
       "      <td>low</td>\n",
       "      <td>M</td>\n",
       "      <td>59</td>\n",
       "      <td>3088</td>\n",
       "      <td>1</td>\n",
       "    </tr>\n",
       "    <tr>\n",
       "      <th>2</th>\n",
       "      <td>3</td>\n",
       "      <td>A</td>\n",
       "      <td>Flight</td>\n",
       "      <td>2</td>\n",
       "      <td>2</td>\n",
       "      <td>183</td>\n",
       "      <td>4</td>\n",
       "      <td>low</td>\n",
       "      <td>M</td>\n",
       "      <td>48</td>\n",
       "      <td>3374</td>\n",
       "      <td>1</td>\n",
       "    </tr>\n",
       "    <tr>\n",
       "      <th>3</th>\n",
       "      <td>4</td>\n",
       "      <td>B</td>\n",
       "      <td>Flight</td>\n",
       "      <td>3</td>\n",
       "      <td>3</td>\n",
       "      <td>176</td>\n",
       "      <td>4</td>\n",
       "      <td>medium</td>\n",
       "      <td>M</td>\n",
       "      <td>10</td>\n",
       "      <td>1177</td>\n",
       "      <td>1</td>\n",
       "    </tr>\n",
       "    <tr>\n",
       "      <th>4</th>\n",
       "      <td>5</td>\n",
       "      <td>C</td>\n",
       "      <td>Flight</td>\n",
       "      <td>2</td>\n",
       "      <td>2</td>\n",
       "      <td>184</td>\n",
       "      <td>3</td>\n",
       "      <td>medium</td>\n",
       "      <td>F</td>\n",
       "      <td>46</td>\n",
       "      <td>2484</td>\n",
       "      <td>1</td>\n",
       "    </tr>\n",
       "  </tbody>\n",
       "</table>\n",
       "</div>"
      ],
      "text/plain": [
       "   ID Warehouse_block Mode_of_Shipment  Customer_care_calls  Customer_rating  \\\n",
       "0   1               D           Flight                    4                2   \n",
       "1   2               F           Flight                    4                5   \n",
       "2   3               A           Flight                    2                2   \n",
       "3   4               B           Flight                    3                3   \n",
       "4   5               C           Flight                    2                2   \n",
       "\n",
       "   Cost_of_the_Product  Prior_purchases Product_importance Gender  \\\n",
       "0                  177                3                low      F   \n",
       "1                  216                2                low      M   \n",
       "2                  183                4                low      M   \n",
       "3                  176                4             medium      M   \n",
       "4                  184                3             medium      F   \n",
       "\n",
       "   Discount_offered  Weight_in_gms  On_time  \n",
       "0                44           1233        1  \n",
       "1                59           3088        1  \n",
       "2                48           3374        1  \n",
       "3                10           1177        1  \n",
       "4                46           2484        1  "
      ]
     },
     "metadata": {},
     "output_type": "display_data"
    },
    {
     "name": "stdout",
     "output_type": "stream",
     "text": [
      "\n",
      "Descripción de las features\n"
     ]
    },
    {
     "data": {
      "text/html": [
       "<div>\n",
       "<style scoped>\n",
       "    .dataframe tbody tr th:only-of-type {\n",
       "        vertical-align: middle;\n",
       "    }\n",
       "\n",
       "    .dataframe tbody tr th {\n",
       "        vertical-align: top;\n",
       "    }\n",
       "\n",
       "    .dataframe thead th {\n",
       "        text-align: right;\n",
       "    }\n",
       "</style>\n",
       "<table border=\"1\" class=\"dataframe\">\n",
       "  <thead>\n",
       "    <tr style=\"text-align: right;\">\n",
       "      <th></th>\n",
       "      <th>ID</th>\n",
       "      <th>Customer_care_calls</th>\n",
       "      <th>Customer_rating</th>\n",
       "      <th>Cost_of_the_Product</th>\n",
       "      <th>Prior_purchases</th>\n",
       "      <th>Discount_offered</th>\n",
       "      <th>Weight_in_gms</th>\n",
       "      <th>On_time</th>\n",
       "    </tr>\n",
       "  </thead>\n",
       "  <tbody>\n",
       "    <tr>\n",
       "      <th>count</th>\n",
       "      <td>10999.00000</td>\n",
       "      <td>10999.000000</td>\n",
       "      <td>10999.000000</td>\n",
       "      <td>10999.000000</td>\n",
       "      <td>10999.000000</td>\n",
       "      <td>10999.000000</td>\n",
       "      <td>10999.000000</td>\n",
       "      <td>10999.000000</td>\n",
       "    </tr>\n",
       "    <tr>\n",
       "      <th>mean</th>\n",
       "      <td>5500.00000</td>\n",
       "      <td>4.054459</td>\n",
       "      <td>2.990545</td>\n",
       "      <td>210.196836</td>\n",
       "      <td>3.567597</td>\n",
       "      <td>13.373216</td>\n",
       "      <td>3634.016729</td>\n",
       "      <td>0.596691</td>\n",
       "    </tr>\n",
       "    <tr>\n",
       "      <th>std</th>\n",
       "      <td>3175.28214</td>\n",
       "      <td>1.141490</td>\n",
       "      <td>1.413603</td>\n",
       "      <td>48.063272</td>\n",
       "      <td>1.522860</td>\n",
       "      <td>16.205527</td>\n",
       "      <td>1635.377251</td>\n",
       "      <td>0.490584</td>\n",
       "    </tr>\n",
       "    <tr>\n",
       "      <th>min</th>\n",
       "      <td>1.00000</td>\n",
       "      <td>2.000000</td>\n",
       "      <td>1.000000</td>\n",
       "      <td>96.000000</td>\n",
       "      <td>2.000000</td>\n",
       "      <td>1.000000</td>\n",
       "      <td>1001.000000</td>\n",
       "      <td>0.000000</td>\n",
       "    </tr>\n",
       "    <tr>\n",
       "      <th>25%</th>\n",
       "      <td>2750.50000</td>\n",
       "      <td>3.000000</td>\n",
       "      <td>2.000000</td>\n",
       "      <td>169.000000</td>\n",
       "      <td>3.000000</td>\n",
       "      <td>4.000000</td>\n",
       "      <td>1839.500000</td>\n",
       "      <td>0.000000</td>\n",
       "    </tr>\n",
       "    <tr>\n",
       "      <th>50%</th>\n",
       "      <td>5500.00000</td>\n",
       "      <td>4.000000</td>\n",
       "      <td>3.000000</td>\n",
       "      <td>214.000000</td>\n",
       "      <td>3.000000</td>\n",
       "      <td>7.000000</td>\n",
       "      <td>4149.000000</td>\n",
       "      <td>1.000000</td>\n",
       "    </tr>\n",
       "    <tr>\n",
       "      <th>75%</th>\n",
       "      <td>8249.50000</td>\n",
       "      <td>5.000000</td>\n",
       "      <td>4.000000</td>\n",
       "      <td>251.000000</td>\n",
       "      <td>4.000000</td>\n",
       "      <td>10.000000</td>\n",
       "      <td>5050.000000</td>\n",
       "      <td>1.000000</td>\n",
       "    </tr>\n",
       "    <tr>\n",
       "      <th>max</th>\n",
       "      <td>10999.00000</td>\n",
       "      <td>7.000000</td>\n",
       "      <td>5.000000</td>\n",
       "      <td>310.000000</td>\n",
       "      <td>10.000000</td>\n",
       "      <td>65.000000</td>\n",
       "      <td>7846.000000</td>\n",
       "      <td>1.000000</td>\n",
       "    </tr>\n",
       "  </tbody>\n",
       "</table>\n",
       "</div>"
      ],
      "text/plain": [
       "                ID  Customer_care_calls  Customer_rating  Cost_of_the_Product  \\\n",
       "count  10999.00000         10999.000000     10999.000000         10999.000000   \n",
       "mean    5500.00000             4.054459         2.990545           210.196836   \n",
       "std     3175.28214             1.141490         1.413603            48.063272   \n",
       "min        1.00000             2.000000         1.000000            96.000000   \n",
       "25%     2750.50000             3.000000         2.000000           169.000000   \n",
       "50%     5500.00000             4.000000         3.000000           214.000000   \n",
       "75%     8249.50000             5.000000         4.000000           251.000000   \n",
       "max    10999.00000             7.000000         5.000000           310.000000   \n",
       "\n",
       "       Prior_purchases  Discount_offered  Weight_in_gms       On_time  \n",
       "count     10999.000000      10999.000000   10999.000000  10999.000000  \n",
       "mean          3.567597         13.373216    3634.016729      0.596691  \n",
       "std           1.522860         16.205527    1635.377251      0.490584  \n",
       "min           2.000000          1.000000    1001.000000      0.000000  \n",
       "25%           3.000000          4.000000    1839.500000      0.000000  \n",
       "50%           3.000000          7.000000    4149.000000      1.000000  \n",
       "75%           4.000000         10.000000    5050.000000      1.000000  \n",
       "max          10.000000         65.000000    7846.000000      1.000000  "
      ]
     },
     "metadata": {},
     "output_type": "display_data"
    },
    {
     "name": "stdout",
     "output_type": "stream",
     "text": [
      "\n",
      "Valores nulos\n"
     ]
    },
    {
     "data": {
      "text/plain": [
       "ID                     0\n",
       "Warehouse_block        0\n",
       "Mode_of_Shipment       0\n",
       "Customer_care_calls    0\n",
       "Customer_rating        0\n",
       "Cost_of_the_Product    0\n",
       "Prior_purchases        0\n",
       "Product_importance     0\n",
       "Gender                 0\n",
       "Discount_offered       0\n",
       "Weight_in_gms          0\n",
       "On_time                0\n",
       "dtype: int64"
      ]
     },
     "metadata": {},
     "output_type": "display_data"
    },
    {
     "name": "stdout",
     "output_type": "stream",
     "text": [
      "\n",
      "Tipos de dato\n"
     ]
    },
    {
     "data": {
      "text/plain": [
       "ID                      int64\n",
       "Warehouse_block        object\n",
       "Mode_of_Shipment       object\n",
       "Customer_care_calls     int64\n",
       "Customer_rating         int64\n",
       "Cost_of_the_Product     int64\n",
       "Prior_purchases         int64\n",
       "Product_importance     object\n",
       "Gender                 object\n",
       "Discount_offered        int64\n",
       "Weight_in_gms           int64\n",
       "On_time                 int64\n",
       "dtype: object"
      ]
     },
     "metadata": {},
     "output_type": "display_data"
    },
    {
     "name": "stdout",
     "output_type": "stream",
     "text": [
      "\n",
      "Cantidad de valores únicos\n",
      "ID 10999\n",
      "Warehouse_block 5\n",
      "Mode_of_Shipment 3\n",
      "Customer_care_calls 6\n",
      "Customer_rating 5\n",
      "Cost_of_the_Product 215\n",
      "Prior_purchases 8\n",
      "Product_importance 3\n",
      "Gender 2\n",
      "Discount_offered 65\n",
      "Weight_in_gms 4034\n",
      "On_time 2\n"
     ]
    }
   ],
   "source": [
    "data = basic_EDA(data)"
   ]
  },
  {
   "cell_type": "code",
   "execution_count": 54,
   "id": "3542a85d",
   "metadata": {},
   "outputs": [
    {
     "name": "stdout",
     "output_type": "stream",
     "text": [
      "Variables categoricas\n",
      "['Warehouse_block', 'Mode_of_Shipment', 'Product_importance', 'Gender', 'On_time_means']\n",
      "Variables numericas\n",
      "['ID', 'Customer_care_calls', 'Customer_rating', 'Cost_of_the_Product', 'Prior_purchases', 'Discount_offered', 'Weight_in_gms', 'On_time']\n"
     ]
    }
   ],
   "source": [
    "print(\"Variables categoricas\")\n",
    "categoricas = [column for column in data.columns if data[column].dtypes == object ]\n",
    "print(categoricas)\n",
    "    \n",
    "print(\"Variables numericas\")\n",
    "numericas = [column for column in data.columns if data[column].dtypes == \"int64\" ]\n",
    "print(numericas)"
   ]
  },
  {
   "cell_type": "markdown",
   "id": "a860214c",
   "metadata": {},
   "source": [
    "Vemos que todas las variables númericas son int, por ende no hace falta transformar nada."
   ]
  },
  {
   "cell_type": "code",
   "execution_count": 55,
   "id": "707072b6",
   "metadata": {
    "scrolled": false
   },
   "outputs": [
    {
     "data": {
      "text/plain": [
       "<AxesSubplot:>"
      ]
     },
     "execution_count": 55,
     "metadata": {},
     "output_type": "execute_result"
    },
    {
     "data": {
      "image/png": "[encoded data removed]",
      "text/plain": [
       "<Figure size 800x800 with 2 Axes>"
      ]
     },
     "metadata": {},
     "output_type": "display_data"
    }
   ],
   "source": [
    "a4_dims = (10, 10)\n",
    "fig, ax = plt.subplots(figsize=a4_dims)\n",
    "sns.heatmap(data.corr(), annot = True, cmap=\"RdYlBu\")"
   ]
  },
  {
   "cell_type": "markdown",
   "id": "afa5da97",
   "metadata": {},
   "source": [
    "Se puede observar que las variables no están muy correlacionadas entre sí"
   ]
  },
  {
   "cell_type": "code",
   "execution_count": 56,
   "id": "7467c7f6",
   "metadata": {
    "scrolled": false
   },
   "outputs": [
    {
     "data": {
      "text/plain": [
       "ID                     0.000000\n",
       "Customer_care_calls    0.391926\n",
       "Customer_rating        0.004360\n",
       "Cost_of_the_Product   -0.157117\n",
       "Prior_purchases        1.681897\n",
       "Discount_offered       1.798929\n",
       "Weight_in_gms         -0.249747\n",
       "On_time               -0.394257\n",
       "dtype: float64"
      ]
     },
     "execution_count": 56,
     "metadata": {},
     "output_type": "execute_result"
    }
   ],
   "source": [
    "#que será esto? skew es sesgo pero no se la verdad --> \"Return unbiased skew over requested axis.\"\n",
    "data.skew()"
   ]
  },
  {
   "cell_type": "code",
   "execution_count": 57,
   "id": "2b9d0711",
   "metadata": {
    "scrolled": false
   },
   "outputs": [
    {
     "data": {
      "text/plain": [
       "<AxesSubplot:xlabel='Customer_care_calls', ylabel='count'>"
      ]
     },
     "execution_count": 57,
     "metadata": {},
     "output_type": "execute_result"
    },
    {
     "data": {
      "image/png": "[encoded data removed]",
      "text/plain": [
       "<Figure size 640x480 with 1 Axes>"
      ]
     },
     "metadata": {},
     "output_type": "display_data"
    }
   ],
   "source": [
    "sns.countplot(x='Customer_care_calls',hue='On_time_means',data=data)\n",
    "# we can see there are more than 2000 instances where the customer has to call 4 times in order get the package delivered"
   ]
  },
  {
   "cell_type": "markdown",
   "id": "d34d2097",
   "metadata": {},
   "source": [
    "Veamos si el envío esta afectado por la importancia del producto"
   ]
  },
  {
   "cell_type": "markdown",
   "id": "0f08d168",
   "metadata": {},
   "source": [
    "###### Ojo con lo siguiente"
   ]
  },
  {
   "cell_type": "code",
   "execution_count": 58,
   "id": "f0583c12",
   "metadata": {},
   "outputs": [
    {
     "data": {
      "text/plain": [
       "<AxesSubplot:xlabel='Product_importance', ylabel='count'>"
      ]
     },
     "execution_count": 58,
     "metadata": {},
     "output_type": "execute_result"
    },
    {
     "data": {
      "image/png": "[encoded data removed]",
      "text/plain": [
       "<Figure size 640x480 with 1 Axes>"
      ]
     },
     "metadata": {},
     "output_type": "display_data"
    }
   ],
   "source": [
    "sns.countplot(x='Product_importance',hue='On_time_means',data=data)\n",
    "#Se puede observar que los productos con baja importancia, fueron envíos demorados ##(toto) no lo veo a eso jaja"
   ]
  },
  {
   "cell_type": "markdown",
   "id": "a2129caf",
   "metadata": {},
   "source": [
    "Hay outliers en precio?"
   ]
  },
  {
   "cell_type": "code",
   "execution_count": 59,
   "id": "1ebe12fc",
   "metadata": {},
   "outputs": [
    {
     "data": {
      "text/plain": [
       "<AxesSubplot:xlabel='Cost_of_the_Product'>"
      ]
     },
     "execution_count": 59,
     "metadata": {},
     "output_type": "execute_result"
    },
    {
     "data": {
      "image/png": "[encoded data removed]",
      "text/plain": [
       "<Figure size 640x480 with 1 Axes>"
      ]
     },
     "metadata": {},
     "output_type": "display_data"
    }
   ],
   "source": [
    "sns.boxplot(x='Cost_of_the_Product',data=data) #no outliers"
   ]
  },
  {
   "cell_type": "code",
   "execution_count": 60,
   "id": "fbb948df",
   "metadata": {},
   "outputs": [
    {
     "data": {
      "image/png": "[encoded data removed]",
      "text/plain": [
       "<Figure size 640x480 with 1 Axes>"
      ]
     },
     "metadata": {},
     "output_type": "display_data"
    }
   ],
   "source": [
    "ax = sns.countplot(x='Mode_of_Shipment',hue='On_time_means',data=data)\n",
    "# shipment is mostly done by ship"
   ]
  },
  {
   "cell_type": "code",
   "execution_count": 61,
   "id": "0a31a0d0",
   "metadata": {},
   "outputs": [],
   "source": [
    "#La columna ID no nos aporta nada asique la dropeamos\n",
    "data.drop(['ID'],inplace=True,axis=1)"
   ]
  },
  {
   "cell_type": "markdown",
   "id": "1ed1a2e9",
   "metadata": {},
   "source": [
    "Como no tenemos nulos, no tenemos nada que imputar y procedemos a dumificar"
   ]
  },
  {
   "cell_type": "markdown",
   "id": "d4f6f96b",
   "metadata": {},
   "source": [
    "###### Debemos dumificar las variables object"
   ]
  },
  {
   "cell_type": "code",
   "execution_count": 62,
   "id": "e39b256b",
   "metadata": {},
   "outputs": [],
   "source": [
    "#data[\"Cost_of_the_Product\"]=pd.cut(data[\"Cost_of_the_Product\"],bins=3, labels=[\"low\",\"medium\",\"high\"])\n"
   ]
  },
  {
   "cell_type": "code",
   "execution_count": 63,
   "id": "63da82b3",
   "metadata": {},
   "outputs": [],
   "source": [
    "#data[\"Weight_in_gms\"] = pd.cut(data[\"Weight_in_gms\"],bins=3, labels=[\"low\",\"medium\",\"high\"])"
   ]
  },
  {
   "cell_type": "code",
   "execution_count": 64,
   "id": "1fbd64f1",
   "metadata": {},
   "outputs": [],
   "source": [
    "#data[\"Discount_offered\"] = pd.cut(data[\"Discount_offered\"],bins=3,labels=[\"low\",\"medium\",\"high\"])"
   ]
  },
  {
   "cell_type": "code",
   "execution_count": 65,
   "id": "5d8fc28a",
   "metadata": {},
   "outputs": [
    {
     "name": "stdout",
     "output_type": "stream",
     "text": [
      "<class 'pandas.core.frame.DataFrame'>\n",
      "RangeIndex: 10999 entries, 0 to 10998\n",
      "Data columns (total 12 columns):\n",
      " #   Column               Non-Null Count  Dtype \n",
      "---  ------               --------------  ----- \n",
      " 0   Warehouse_block      10999 non-null  object\n",
      " 1   Mode_of_Shipment     10999 non-null  object\n",
      " 2   Customer_care_calls  10999 non-null  int64 \n",
      " 3   Customer_rating      10999 non-null  int64 \n",
      " 4   Cost_of_the_Product  10999 non-null  int64 \n",
      " 5   Prior_purchases      10999 non-null  int64 \n",
      " 6   Product_importance   10999 non-null  object\n",
      " 7   Gender               10999 non-null  object\n",
      " 8   Discount_offered     10999 non-null  int64 \n",
      " 9   Weight_in_gms        10999 non-null  int64 \n",
      " 10  On_time              10999 non-null  int64 \n",
      " 11  On_time_means        10999 non-null  object\n",
      "dtypes: int64(7), object(5)\n",
      "memory usage: 1.0+ MB\n"
     ]
    }
   ],
   "source": [
    "data.info()"
   ]
  },
  {
   "cell_type": "code",
   "execution_count": 66,
   "id": "b2b92e80",
   "metadata": {},
   "outputs": [],
   "source": [
    "#categoricas1 =  [ column for column in data.columns if data[column].dtypes == \"category\"]\n",
    "#categoricas1"
   ]
  },
  {
   "cell_type": "code",
   "execution_count": 67,
   "id": "8b5eb55e",
   "metadata": {},
   "outputs": [],
   "source": [
    "data_dummies = pd.get_dummies(data[categoricas],drop_first=True)"
   ]
  },
  {
   "cell_type": "code",
   "execution_count": 68,
   "id": "5470744d",
   "metadata": {},
   "outputs": [],
   "source": [
    "#data_dummies1 = pd.get_dummies(data[categoricas1], drop_first=True)"
   ]
  },
  {
   "cell_type": "code",
   "execution_count": 69,
   "id": "9a36853f",
   "metadata": {},
   "outputs": [],
   "source": [
    "data = pd.concat([data,data_dummies],axis=1)\n"
   ]
  },
  {
   "cell_type": "code",
   "execution_count": 70,
   "id": "787f3039",
   "metadata": {},
   "outputs": [],
   "source": [
    "data = data.drop(categoricas,axis=1)"
   ]
  },
  {
   "cell_type": "code",
   "execution_count": 71,
   "id": "26ab34df",
   "metadata": {
    "scrolled": true
   },
   "outputs": [
    {
     "data": {
      "text/html": [
       "<div>\n",
       "<style scoped>\n",
       "    .dataframe tbody tr th:only-of-type {\n",
       "        vertical-align: middle;\n",
       "    }\n",
       "\n",
       "    .dataframe tbody tr th {\n",
       "        vertical-align: top;\n",
       "    }\n",
       "\n",
       "    .dataframe thead th {\n",
       "        text-align: right;\n",
       "    }\n",
       "</style>\n",
       "<table border=\"1\" class=\"dataframe\">\n",
       "  <thead>\n",
       "    <tr style=\"text-align: right;\">\n",
       "      <th></th>\n",
       "      <th>Customer_care_calls</th>\n",
       "      <th>Customer_rating</th>\n",
       "      <th>Cost_of_the_Product</th>\n",
       "      <th>Prior_purchases</th>\n",
       "      <th>Discount_offered</th>\n",
       "      <th>Weight_in_gms</th>\n",
       "      <th>On_time</th>\n",
       "      <th>Warehouse_block_B</th>\n",
       "      <th>Warehouse_block_C</th>\n",
       "      <th>Warehouse_block_D</th>\n",
       "      <th>Warehouse_block_F</th>\n",
       "      <th>Mode_of_Shipment_Road</th>\n",
       "      <th>Mode_of_Shipment_Ship</th>\n",
       "      <th>Product_importance_low</th>\n",
       "      <th>Product_importance_medium</th>\n",
       "      <th>Gender_M</th>\n",
       "      <th>On_time_means_on_time</th>\n",
       "    </tr>\n",
       "  </thead>\n",
       "  <tbody>\n",
       "    <tr>\n",
       "      <th>0</th>\n",
       "      <td>4</td>\n",
       "      <td>2</td>\n",
       "      <td>177</td>\n",
       "      <td>3</td>\n",
       "      <td>44</td>\n",
       "      <td>1233</td>\n",
       "      <td>1</td>\n",
       "      <td>0</td>\n",
       "      <td>0</td>\n",
       "      <td>1</td>\n",
       "      <td>0</td>\n",
       "      <td>0</td>\n",
       "      <td>0</td>\n",
       "      <td>1</td>\n",
       "      <td>0</td>\n",
       "      <td>0</td>\n",
       "      <td>0</td>\n",
       "    </tr>\n",
       "    <tr>\n",
       "      <th>1</th>\n",
       "      <td>4</td>\n",
       "      <td>5</td>\n",
       "      <td>216</td>\n",
       "      <td>2</td>\n",
       "      <td>59</td>\n",
       "      <td>3088</td>\n",
       "      <td>1</td>\n",
       "      <td>0</td>\n",
       "      <td>0</td>\n",
       "      <td>0</td>\n",
       "      <td>1</td>\n",
       "      <td>0</td>\n",
       "      <td>0</td>\n",
       "      <td>1</td>\n",
       "      <td>0</td>\n",
       "      <td>1</td>\n",
       "      <td>0</td>\n",
       "    </tr>\n",
       "    <tr>\n",
       "      <th>2</th>\n",
       "      <td>2</td>\n",
       "      <td>2</td>\n",
       "      <td>183</td>\n",
       "      <td>4</td>\n",
       "      <td>48</td>\n",
       "      <td>3374</td>\n",
       "      <td>1</td>\n",
       "      <td>0</td>\n",
       "      <td>0</td>\n",
       "      <td>0</td>\n",
       "      <td>0</td>\n",
       "      <td>0</td>\n",
       "      <td>0</td>\n",
       "      <td>1</td>\n",
       "      <td>0</td>\n",
       "      <td>1</td>\n",
       "      <td>0</td>\n",
       "    </tr>\n",
       "    <tr>\n",
       "      <th>3</th>\n",
       "      <td>3</td>\n",
       "      <td>3</td>\n",
       "      <td>176</td>\n",
       "      <td>4</td>\n",
       "      <td>10</td>\n",
       "      <td>1177</td>\n",
       "      <td>1</td>\n",
       "      <td>1</td>\n",
       "      <td>0</td>\n",
       "      <td>0</td>\n",
       "      <td>0</td>\n",
       "      <td>0</td>\n",
       "      <td>0</td>\n",
       "      <td>0</td>\n",
       "      <td>1</td>\n",
       "      <td>1</td>\n",
       "      <td>0</td>\n",
       "    </tr>\n",
       "    <tr>\n",
       "      <th>4</th>\n",
       "      <td>2</td>\n",
       "      <td>2</td>\n",
       "      <td>184</td>\n",
       "      <td>3</td>\n",
       "      <td>46</td>\n",
       "      <td>2484</td>\n",
       "      <td>1</td>\n",
       "      <td>0</td>\n",
       "      <td>1</td>\n",
       "      <td>0</td>\n",
       "      <td>0</td>\n",
       "      <td>0</td>\n",
       "      <td>0</td>\n",
       "      <td>0</td>\n",
       "      <td>1</td>\n",
       "      <td>0</td>\n",
       "      <td>0</td>\n",
       "    </tr>\n",
       "  </tbody>\n",
       "</table>\n",
       "</div>"
      ],
      "text/plain": [
       "   Customer_care_calls  Customer_rating  Cost_of_the_Product  Prior_purchases  \\\n",
       "0                    4                2                  177                3   \n",
       "1                    4                5                  216                2   \n",
       "2                    2                2                  183                4   \n",
       "3                    3                3                  176                4   \n",
       "4                    2                2                  184                3   \n",
       "\n",
       "   Discount_offered  Weight_in_gms  On_time  Warehouse_block_B  \\\n",
       "0                44           1233        1                  0   \n",
       "1                59           3088        1                  0   \n",
       "2                48           3374        1                  0   \n",
       "3                10           1177        1                  1   \n",
       "4                46           2484        1                  0   \n",
       "\n",
       "   Warehouse_block_C  Warehouse_block_D  Warehouse_block_F  \\\n",
       "0                  0                  1                  0   \n",
       "1                  0                  0                  1   \n",
       "2                  0                  0                  0   \n",
       "3                  0                  0                  0   \n",
       "4                  1                  0                  0   \n",
       "\n",
       "   Mode_of_Shipment_Road  Mode_of_Shipment_Ship  Product_importance_low  \\\n",
       "0                      0                      0                       1   \n",
       "1                      0                      0                       1   \n",
       "2                      0                      0                       1   \n",
       "3                      0                      0                       0   \n",
       "4                      0                      0                       0   \n",
       "\n",
       "   Product_importance_medium  Gender_M  On_time_means_on_time  \n",
       "0                          0         0                      0  \n",
       "1                          0         1                      0  \n",
       "2                          0         1                      0  \n",
       "3                          1         1                      0  \n",
       "4                          1         0                      0  "
      ]
     },
     "execution_count": 71,
     "metadata": {},
     "output_type": "execute_result"
    }
   ],
   "source": [
    "data.head()"
   ]
  },
  {
   "cell_type": "markdown",
   "id": "5bed6b22",
   "metadata": {},
   "source": [
    "# MODELOS DE MACHINE LEARNING"
   ]
  },
  {
   "cell_type": "code",
   "execution_count": 72,
   "id": "ede40172",
   "metadata": {},
   "outputs": [
    {
     "data": {
      "text/plain": [
       "1    0.596691\n",
       "0    0.403309\n",
       "Name: On_time, dtype: float64"
      ]
     },
     "execution_count": 72,
     "metadata": {},
     "output_type": "execute_result"
    }
   ],
   "source": [
    "#para ver si estan balanceadas\n",
    "data.On_time.value_counts(normalize = True)"
   ]
  },
  {
   "cell_type": "code",
   "execution_count": 73,
   "id": "fad1040f",
   "metadata": {
    "scrolled": true
   },
   "outputs": [
    {
     "name": "stdout",
     "output_type": "stream",
     "text": [
      "X_train: (7369, 15)\n",
      "y_train: (7369,)\n",
      "X_test:  (3630, 15)\n",
      "y_test : (3630,)\n"
     ]
    }
   ],
   "source": [
    "X = data.drop(['On_time','On_time_means_on_time'], axis=1)\n",
    "y = data['On_time']\n",
    "\n",
    "X_train, X_test, y_train, y_test = train_test_split(X, y, test_size=0.33, random_state=2,stratify = y)\n",
    "\n",
    "print(\"X_train:\", X_train.shape)\n",
    "print(\"y_train:\", y_train.shape)\n",
    "print(\"X_test: \", X_test.shape)\n",
    "print(\"y_test :\", y_test.shape)"
   ]
  },
  {
   "cell_type": "code",
   "execution_count": 74,
   "id": "9628de60",
   "metadata": {},
   "outputs": [
    {
     "data": {
      "text/plain": [
       "1    0.596689\n",
       "0    0.403311\n",
       "Name: On_time, dtype: float64"
      ]
     },
     "execution_count": 74,
     "metadata": {},
     "output_type": "execute_result"
    }
   ],
   "source": [
    "y_train.value_counts(normalize = True)"
   ]
  },
  {
   "cell_type": "code",
   "execution_count": 75,
   "id": "c5cbf6e8",
   "metadata": {},
   "outputs": [
    {
     "data": {
      "text/plain": [
       "1    0.596694\n",
       "0    0.403306\n",
       "Name: On_time, dtype: float64"
      ]
     },
     "execution_count": 75,
     "metadata": {},
     "output_type": "execute_result"
    }
   ],
   "source": [
    "y_test.value_counts(normalize = True)"
   ]
  },
  {
   "cell_type": "code",
   "execution_count": 76,
   "id": "605fa18e",
   "metadata": {},
   "outputs": [],
   "source": [
    "from sklearn.preprocessing import StandardScaler\n",
    "scaler= StandardScaler()\n",
    "X_train_std = scaler.fit_transform(X_train)\n",
    "X_test_std = scaler.transform(X_test)\n"
   ]
  },
  {
   "cell_type": "markdown",
   "id": "90269120",
   "metadata": {},
   "source": [
    "# KNN"
   ]
  },
  {
   "cell_type": "code",
   "execution_count": 77,
   "id": "8966aee4",
   "metadata": {},
   "outputs": [],
   "source": [
    "def scores_knn(X,y,start,stop,folds):\n",
    "    kf= KFold(n_splits=folds,shuffle=True,random_state=2)\n",
    "    \n",
    "    scores=[]\n",
    "    for i in range (start,stop):\n",
    "        knn = KNeighborsClassifier(n_neighbors=i)   #PODRIA AGREGAR UNA METRICA\n",
    "        \n",
    "        cv_scores = cross_val_score(knn, X,y, cv=kf)\n",
    "        \n",
    "        diccionario = {\"score_medio\":np.mean(cv_scores),\"n_neighbors\":i,'score_std':np.std(cv_scores)}\n",
    "        \n",
    "        scores.append(diccionario)\n",
    "        \n",
    "    dfscores=pd.DataFrame(scores)\n",
    "        \n",
    "    dfscores['limite_inferior'] = dfscores['score_medio'] - dfscores['score_std']\n",
    "    dfscores['limite_superior'] = dfscores['score_medio'] + dfscores['score_std']\n",
    "    \n",
    "    return dfscores"
   ]
  },
  {
   "cell_type": "code",
   "execution_count": 78,
   "id": "f2aa0db2",
   "metadata": {},
   "outputs": [
    {
     "data": {
      "text/html": [
       "<div>\n",
       "<style scoped>\n",
       "    .dataframe tbody tr th:only-of-type {\n",
       "        vertical-align: middle;\n",
       "    }\n",
       "\n",
       "    .dataframe tbody tr th {\n",
       "        vertical-align: top;\n",
       "    }\n",
       "\n",
       "    .dataframe thead th {\n",
       "        text-align: right;\n",
       "    }\n",
       "</style>\n",
       "<table border=\"1\" class=\"dataframe\">\n",
       "  <thead>\n",
       "    <tr style=\"text-align: right;\">\n",
       "      <th></th>\n",
       "      <th>score_medio</th>\n",
       "      <th>n_neighbors</th>\n",
       "      <th>score_std</th>\n",
       "      <th>limite_inferior</th>\n",
       "      <th>limite_superior</th>\n",
       "    </tr>\n",
       "  </thead>\n",
       "  <tbody>\n",
       "    <tr>\n",
       "      <th>0</th>\n",
       "      <td>0.621658</td>\n",
       "      <td>1</td>\n",
       "      <td>0.008815</td>\n",
       "      <td>0.612844</td>\n",
       "      <td>0.630473</td>\n",
       "    </tr>\n",
       "    <tr>\n",
       "      <th>1</th>\n",
       "      <td>0.635229</td>\n",
       "      <td>2</td>\n",
       "      <td>0.010106</td>\n",
       "      <td>0.625122</td>\n",
       "      <td>0.645335</td>\n",
       "    </tr>\n",
       "    <tr>\n",
       "      <th>2</th>\n",
       "      <td>0.633603</td>\n",
       "      <td>3</td>\n",
       "      <td>0.012448</td>\n",
       "      <td>0.621155</td>\n",
       "      <td>0.646051</td>\n",
       "    </tr>\n",
       "    <tr>\n",
       "      <th>3</th>\n",
       "      <td>0.624510</td>\n",
       "      <td>4</td>\n",
       "      <td>0.008455</td>\n",
       "      <td>0.616054</td>\n",
       "      <td>0.632965</td>\n",
       "    </tr>\n",
       "    <tr>\n",
       "      <th>4</th>\n",
       "      <td>0.627225</td>\n",
       "      <td>5</td>\n",
       "      <td>0.013681</td>\n",
       "      <td>0.613544</td>\n",
       "      <td>0.640905</td>\n",
       "    </tr>\n",
       "    <tr>\n",
       "      <th>5</th>\n",
       "      <td>0.624374</td>\n",
       "      <td>6</td>\n",
       "      <td>0.008186</td>\n",
       "      <td>0.616188</td>\n",
       "      <td>0.632559</td>\n",
       "    </tr>\n",
       "    <tr>\n",
       "      <th>6</th>\n",
       "      <td>0.624511</td>\n",
       "      <td>7</td>\n",
       "      <td>0.013128</td>\n",
       "      <td>0.611382</td>\n",
       "      <td>0.637639</td>\n",
       "    </tr>\n",
       "    <tr>\n",
       "      <th>7</th>\n",
       "      <td>0.628853</td>\n",
       "      <td>8</td>\n",
       "      <td>0.009535</td>\n",
       "      <td>0.619318</td>\n",
       "      <td>0.638388</td>\n",
       "    </tr>\n",
       "    <tr>\n",
       "      <th>8</th>\n",
       "      <td>0.626818</td>\n",
       "      <td>9</td>\n",
       "      <td>0.013940</td>\n",
       "      <td>0.612878</td>\n",
       "      <td>0.640758</td>\n",
       "    </tr>\n",
       "    <tr>\n",
       "      <th>9</th>\n",
       "      <td>0.632517</td>\n",
       "      <td>10</td>\n",
       "      <td>0.009384</td>\n",
       "      <td>0.623132</td>\n",
       "      <td>0.641901</td>\n",
       "    </tr>\n",
       "    <tr>\n",
       "      <th>10</th>\n",
       "      <td>0.629396</td>\n",
       "      <td>11</td>\n",
       "      <td>0.012122</td>\n",
       "      <td>0.617273</td>\n",
       "      <td>0.641518</td>\n",
       "    </tr>\n",
       "    <tr>\n",
       "      <th>11</th>\n",
       "      <td>0.627767</td>\n",
       "      <td>12</td>\n",
       "      <td>0.014410</td>\n",
       "      <td>0.613357</td>\n",
       "      <td>0.642177</td>\n",
       "    </tr>\n",
       "    <tr>\n",
       "      <th>12</th>\n",
       "      <td>0.629803</td>\n",
       "      <td>13</td>\n",
       "      <td>0.010947</td>\n",
       "      <td>0.618856</td>\n",
       "      <td>0.640750</td>\n",
       "    </tr>\n",
       "    <tr>\n",
       "      <th>13</th>\n",
       "      <td>0.630482</td>\n",
       "      <td>14</td>\n",
       "      <td>0.011042</td>\n",
       "      <td>0.619439</td>\n",
       "      <td>0.641524</td>\n",
       "    </tr>\n",
       "    <tr>\n",
       "      <th>14</th>\n",
       "      <td>0.630618</td>\n",
       "      <td>15</td>\n",
       "      <td>0.012777</td>\n",
       "      <td>0.617841</td>\n",
       "      <td>0.643395</td>\n",
       "    </tr>\n",
       "    <tr>\n",
       "      <th>15</th>\n",
       "      <td>0.630754</td>\n",
       "      <td>16</td>\n",
       "      <td>0.011947</td>\n",
       "      <td>0.618807</td>\n",
       "      <td>0.642701</td>\n",
       "    </tr>\n",
       "    <tr>\n",
       "      <th>16</th>\n",
       "      <td>0.630345</td>\n",
       "      <td>17</td>\n",
       "      <td>0.009345</td>\n",
       "      <td>0.621000</td>\n",
       "      <td>0.639691</td>\n",
       "    </tr>\n",
       "    <tr>\n",
       "      <th>17</th>\n",
       "      <td>0.632517</td>\n",
       "      <td>18</td>\n",
       "      <td>0.010139</td>\n",
       "      <td>0.622378</td>\n",
       "      <td>0.642656</td>\n",
       "    </tr>\n",
       "    <tr>\n",
       "      <th>18</th>\n",
       "      <td>0.630074</td>\n",
       "      <td>19</td>\n",
       "      <td>0.008910</td>\n",
       "      <td>0.621164</td>\n",
       "      <td>0.638984</td>\n",
       "    </tr>\n",
       "    <tr>\n",
       "      <th>19</th>\n",
       "      <td>0.632653</td>\n",
       "      <td>20</td>\n",
       "      <td>0.009253</td>\n",
       "      <td>0.623399</td>\n",
       "      <td>0.641906</td>\n",
       "    </tr>\n",
       "    <tr>\n",
       "      <th>20</th>\n",
       "      <td>0.635366</td>\n",
       "      <td>21</td>\n",
       "      <td>0.011992</td>\n",
       "      <td>0.623374</td>\n",
       "      <td>0.647359</td>\n",
       "    </tr>\n",
       "    <tr>\n",
       "      <th>21</th>\n",
       "      <td>0.637945</td>\n",
       "      <td>22</td>\n",
       "      <td>0.011356</td>\n",
       "      <td>0.626589</td>\n",
       "      <td>0.649301</td>\n",
       "    </tr>\n",
       "    <tr>\n",
       "      <th>22</th>\n",
       "      <td>0.632651</td>\n",
       "      <td>23</td>\n",
       "      <td>0.011695</td>\n",
       "      <td>0.620957</td>\n",
       "      <td>0.644346</td>\n",
       "    </tr>\n",
       "    <tr>\n",
       "      <th>23</th>\n",
       "      <td>0.638080</td>\n",
       "      <td>24</td>\n",
       "      <td>0.007801</td>\n",
       "      <td>0.630279</td>\n",
       "      <td>0.645881</td>\n",
       "    </tr>\n",
       "  </tbody>\n",
       "</table>\n",
       "</div>"
      ],
      "text/plain": [
       "    score_medio  n_neighbors  score_std  limite_inferior  limite_superior\n",
       "0      0.621658            1   0.008815         0.612844         0.630473\n",
       "1      0.635229            2   0.010106         0.625122         0.645335\n",
       "2      0.633603            3   0.012448         0.621155         0.646051\n",
       "3      0.624510            4   0.008455         0.616054         0.632965\n",
       "4      0.627225            5   0.013681         0.613544         0.640905\n",
       "5      0.624374            6   0.008186         0.616188         0.632559\n",
       "6      0.624511            7   0.013128         0.611382         0.637639\n",
       "7      0.628853            8   0.009535         0.619318         0.638388\n",
       "8      0.626818            9   0.013940         0.612878         0.640758\n",
       "9      0.632517           10   0.009384         0.623132         0.641901\n",
       "10     0.629396           11   0.012122         0.617273         0.641518\n",
       "11     0.627767           12   0.014410         0.613357         0.642177\n",
       "12     0.629803           13   0.010947         0.618856         0.640750\n",
       "13     0.630482           14   0.011042         0.619439         0.641524\n",
       "14     0.630618           15   0.012777         0.617841         0.643395\n",
       "15     0.630754           16   0.011947         0.618807         0.642701\n",
       "16     0.630345           17   0.009345         0.621000         0.639691\n",
       "17     0.632517           18   0.010139         0.622378         0.642656\n",
       "18     0.630074           19   0.008910         0.621164         0.638984\n",
       "19     0.632653           20   0.009253         0.623399         0.641906\n",
       "20     0.635366           21   0.011992         0.623374         0.647359\n",
       "21     0.637945           22   0.011356         0.626589         0.649301\n",
       "22     0.632651           23   0.011695         0.620957         0.644346\n",
       "23     0.638080           24   0.007801         0.630279         0.645881"
      ]
     },
     "execution_count": 78,
     "metadata": {},
     "output_type": "execute_result"
    }
   ],
   "source": [
    "df_scores = scores_knn(X_train_std,y_train,1,25,5)\n",
    "df_scores"
   ]
  },
  {
   "cell_type": "code",
   "execution_count": 188,
   "id": "55cbaa3c",
   "metadata": {},
   "outputs": [
    {
     "data": {
      "text/plain": [
       "(0.6, 0.65)"
      ]
     },
     "execution_count": 188,
     "metadata": {},
     "output_type": "execute_result"
    },
    {
     "data": {
      "image/png": "[encoded data removed]",
      "text/plain": [
       "<Figure size 640x480 with 1 Axes>"
      ]
     },
     "metadata": {},
     "output_type": "display_data"
    }
   ],
   "source": [
    "plt.plot(df_scores[\"n_neighbors\"],df_scores[\"limite_inferior\"],color=\"r\")\n",
    "plt.plot(df_scores[\"n_neighbors\"],df_scores[\"limite_superior\"],color=\"r\")\n",
    "plt.plot(df_scores[\"n_neighbors\"],df_scores[\"score_medio\"],color=\"b\")\n",
    "plt.ylim(0.6,0.65)"
   ]
  },
  {
   "cell_type": "code",
   "execution_count": 80,
   "id": "b0f667e0",
   "metadata": {},
   "outputs": [
    {
     "data": {
      "text/html": [
       "<div>\n",
       "<style scoped>\n",
       "    .dataframe tbody tr th:only-of-type {\n",
       "        vertical-align: middle;\n",
       "    }\n",
       "\n",
       "    .dataframe tbody tr th {\n",
       "        vertical-align: top;\n",
       "    }\n",
       "\n",
       "    .dataframe thead th {\n",
       "        text-align: right;\n",
       "    }\n",
       "</style>\n",
       "<table border=\"1\" class=\"dataframe\">\n",
       "  <thead>\n",
       "    <tr style=\"text-align: right;\">\n",
       "      <th></th>\n",
       "      <th>score_medio</th>\n",
       "      <th>n_neighbors</th>\n",
       "      <th>score_std</th>\n",
       "      <th>limite_inferior</th>\n",
       "      <th>limite_superior</th>\n",
       "    </tr>\n",
       "  </thead>\n",
       "  <tbody>\n",
       "    <tr>\n",
       "      <th>23</th>\n",
       "      <td>0.63808</td>\n",
       "      <td>24</td>\n",
       "      <td>0.007801</td>\n",
       "      <td>0.630279</td>\n",
       "      <td>0.645881</td>\n",
       "    </tr>\n",
       "  </tbody>\n",
       "</table>\n",
       "</div>"
      ],
      "text/plain": [
       "    score_medio  n_neighbors  score_std  limite_inferior  limite_superior\n",
       "23      0.63808           24   0.007801         0.630279         0.645881"
      ]
     },
     "execution_count": 80,
     "metadata": {},
     "output_type": "execute_result"
    }
   ],
   "source": [
    "df_scores[df_scores.score_medio==df_scores.score_medio.max()]"
   ]
  },
  {
   "cell_type": "code",
   "execution_count": 81,
   "id": "3be0f4c8",
   "metadata": {},
   "outputs": [
    {
     "data": {
      "text/plain": [
       "24"
      ]
     },
     "execution_count": 81,
     "metadata": {},
     "output_type": "execute_result"
    }
   ],
   "source": [
    "bestk = df_scores[df_scores.score_medio==df_scores.score_medio.max()].n_neighbors.values[0]\n",
    "bestk"
   ]
  },
  {
   "cell_type": "code",
   "execution_count": 82,
   "id": "4986a116",
   "metadata": {},
   "outputs": [
    {
     "data": {
      "text/plain": [
       "KNeighborsClassifier(n_neighbors=24)"
      ]
     },
     "execution_count": 82,
     "metadata": {},
     "output_type": "execute_result"
    }
   ],
   "source": [
    "knn = KNeighborsClassifier(n_neighbors= bestk)\n",
    "\n",
    "knn.fit(X_train_std,y_train)"
   ]
  },
  {
   "cell_type": "code",
   "execution_count": 84,
   "id": "d58b3901",
   "metadata": {},
   "outputs": [
    {
     "data": {
      "text/plain": [
       "0.6294765840220385"
      ]
     },
     "execution_count": 84,
     "metadata": {},
     "output_type": "execute_result"
    }
   ],
   "source": [
    "ypred_test= knn.predict(X_test_std)\n",
    "accuracy_score(y_test,ypred_test)"
   ]
  },
  {
   "cell_type": "code",
   "execution_count": 85,
   "id": "9e1e0d1a",
   "metadata": {},
   "outputs": [
    {
     "data": {
      "text/plain": [
       "array([[ 972,  492],\n",
       "       [ 853, 1313]], dtype=int64)"
      ]
     },
     "execution_count": 85,
     "metadata": {},
     "output_type": "execute_result"
    }
   ],
   "source": [
    "cm = confusion_matrix(y_test, ypred_test)\n",
    "cm"
   ]
  },
  {
   "cell_type": "markdown",
   "id": "9842440e",
   "metadata": {},
   "source": [
    "Voy a probar con grid search aplicando distintos hiperparametros"
   ]
  },
  {
   "cell_type": "code",
   "execution_count": 86,
   "id": "7f51a940",
   "metadata": {},
   "outputs": [],
   "source": [
    "from sklearn.model_selection import GridSearchCV"
   ]
  },
  {
   "cell_type": "code",
   "execution_count": 87,
   "id": "c7b59437",
   "metadata": {},
   "outputs": [],
   "source": [
    "knn_grid = KNeighborsClassifier()"
   ]
  },
  {
   "cell_type": "code",
   "execution_count": 88,
   "id": "5fb5716f",
   "metadata": {},
   "outputs": [],
   "source": [
    "gs_params= {'n_neighbors': range(1,20), \n",
    "            'weights' : ['uniform', 'distance'], \n",
    "            'p' : [1, 2, 3]}\n",
    "kf= KFold(n_splits=5,shuffle=True,random_state=2)"
   ]
  },
  {
   "cell_type": "code",
   "execution_count": 89,
   "id": "b0a9d65c",
   "metadata": {},
   "outputs": [],
   "source": [
    "grid = GridSearchCV(knn_grid,gs_params, cv=kf, scoring='accuracy')"
   ]
  },
  {
   "cell_type": "code",
   "execution_count": 90,
   "id": "98bcbd0e",
   "metadata": {},
   "outputs": [
    {
     "data": {
      "text/plain": [
       "GridSearchCV(cv=KFold(n_splits=5, random_state=2, shuffle=True),\n",
       "             estimator=KNeighborsClassifier(),\n",
       "             param_grid={'n_neighbors': range(1, 20), 'p': [1, 2, 3],\n",
       "                         'weights': ['uniform', 'distance']},\n",
       "             scoring='accuracy')"
      ]
     },
     "execution_count": 90,
     "metadata": {},
     "output_type": "execute_result"
    }
   ],
   "source": [
    "grid.fit(X_train_std, y_train)"
   ]
  },
  {
   "cell_type": "code",
   "execution_count": 107,
   "id": "9f7cc2f3",
   "metadata": {},
   "outputs": [
    {
     "data": {
      "text/html": [
       "<div>\n",
       "<style scoped>\n",
       "    .dataframe tbody tr th:only-of-type {\n",
       "        vertical-align: middle;\n",
       "    }\n",
       "\n",
       "    .dataframe tbody tr th {\n",
       "        vertical-align: top;\n",
       "    }\n",
       "\n",
       "    .dataframe thead th {\n",
       "        text-align: right;\n",
       "    }\n",
       "</style>\n",
       "<table border=\"1\" class=\"dataframe\">\n",
       "  <thead>\n",
       "    <tr style=\"text-align: right;\">\n",
       "      <th></th>\n",
       "      <th>mean_fit_time</th>\n",
       "      <th>std_fit_time</th>\n",
       "      <th>mean_score_time</th>\n",
       "      <th>std_score_time</th>\n",
       "      <th>param_n_neighbors</th>\n",
       "      <th>param_p</th>\n",
       "      <th>param_weights</th>\n",
       "      <th>params</th>\n",
       "      <th>split0_test_score</th>\n",
       "      <th>split1_test_score</th>\n",
       "      <th>split2_test_score</th>\n",
       "      <th>split3_test_score</th>\n",
       "      <th>split4_test_score</th>\n",
       "      <th>mean_test_score</th>\n",
       "      <th>std_test_score</th>\n",
       "      <th>rank_test_score</th>\n",
       "    </tr>\n",
       "  </thead>\n",
       "  <tbody>\n",
       "    <tr>\n",
       "      <th>0</th>\n",
       "      <td>0.016604</td>\n",
       "      <td>0.001636</td>\n",
       "      <td>0.066041</td>\n",
       "      <td>0.001074</td>\n",
       "      <td>1</td>\n",
       "      <td>1</td>\n",
       "      <td>uniform</td>\n",
       "      <td>{'n_neighbors': 1, 'p': 1, 'weights': 'uniform'}</td>\n",
       "      <td>0.620760</td>\n",
       "      <td>0.604478</td>\n",
       "      <td>0.609905</td>\n",
       "      <td>0.626866</td>\n",
       "      <td>0.615071</td>\n",
       "      <td>0.615416</td>\n",
       "      <td>0.007871</td>\n",
       "      <td>111</td>\n",
       "    </tr>\n",
       "    <tr>\n",
       "      <th>1</th>\n",
       "      <td>0.015547</td>\n",
       "      <td>0.000488</td>\n",
       "      <td>0.045249</td>\n",
       "      <td>0.000797</td>\n",
       "      <td>1</td>\n",
       "      <td>1</td>\n",
       "      <td>distance</td>\n",
       "      <td>{'n_neighbors': 1, 'p': 1, 'weights': 'distance'}</td>\n",
       "      <td>0.620760</td>\n",
       "      <td>0.604478</td>\n",
       "      <td>0.609905</td>\n",
       "      <td>0.626866</td>\n",
       "      <td>0.615071</td>\n",
       "      <td>0.615416</td>\n",
       "      <td>0.007871</td>\n",
       "      <td>111</td>\n",
       "    </tr>\n",
       "    <tr>\n",
       "      <th>2</th>\n",
       "      <td>0.015958</td>\n",
       "      <td>0.000022</td>\n",
       "      <td>0.066561</td>\n",
       "      <td>0.001347</td>\n",
       "      <td>1</td>\n",
       "      <td>2</td>\n",
       "      <td>uniform</td>\n",
       "      <td>{'n_neighbors': 1, 'p': 2, 'weights': 'uniform'}</td>\n",
       "      <td>0.638399</td>\n",
       "      <td>0.615332</td>\n",
       "      <td>0.614654</td>\n",
       "      <td>0.617368</td>\n",
       "      <td>0.622539</td>\n",
       "      <td>0.621658</td>\n",
       "      <td>0.008815</td>\n",
       "      <td>108</td>\n",
       "    </tr>\n",
       "  </tbody>\n",
       "</table>\n",
       "</div>"
      ],
      "text/plain": [
       "   mean_fit_time  std_fit_time  mean_score_time  std_score_time  \\\n",
       "0       0.016604      0.001636         0.066041        0.001074   \n",
       "1       0.015547      0.000488         0.045249        0.000797   \n",
       "2       0.015958      0.000022         0.066561        0.001347   \n",
       "\n",
       "  param_n_neighbors param_p param_weights  \\\n",
       "0                 1       1       uniform   \n",
       "1                 1       1      distance   \n",
       "2                 1       2       uniform   \n",
       "\n",
       "                                              params  split0_test_score  \\\n",
       "0   {'n_neighbors': 1, 'p': 1, 'weights': 'uniform'}           0.620760   \n",
       "1  {'n_neighbors': 1, 'p': 1, 'weights': 'distance'}           0.620760   \n",
       "2   {'n_neighbors': 1, 'p': 2, 'weights': 'uniform'}           0.638399   \n",
       "\n",
       "   split1_test_score  split2_test_score  split3_test_score  split4_test_score  \\\n",
       "0           0.604478           0.609905           0.626866           0.615071   \n",
       "1           0.604478           0.609905           0.626866           0.615071   \n",
       "2           0.615332           0.614654           0.617368           0.622539   \n",
       "\n",
       "   mean_test_score  std_test_score  rank_test_score  \n",
       "0         0.615416        0.007871              111  \n",
       "1         0.615416        0.007871              111  \n",
       "2         0.621658        0.008815              108  "
      ]
     },
     "execution_count": 107,
     "metadata": {},
     "output_type": "execute_result"
    }
   ],
   "source": [
    "df_scores_grid = pd.DataFrame(grid.cv_results_)\n",
    "df_scores_grid.head(3)"
   ]
  },
  {
   "cell_type": "code",
   "execution_count": 147,
   "id": "78e14c57",
   "metadata": {},
   "outputs": [
    {
     "data": {
      "text/plain": [
       "<matplotlib.lines.Line2D at 0x294e37c4400>"
      ]
     },
     "execution_count": 147,
     "metadata": {},
     "output_type": "execute_result"
    },
    {
     "data": {
      "image/png": "[encoded data removed]",
      "text/plain": [
       "<Figure size 800x800 with 1 Axes>"
      ]
     },
     "metadata": {},
     "output_type": "display_data"
    }
   ],
   "source": [
    "fig = plt.figure(figsize=(10,10))\n",
    "ax = plt.axes()\n",
    "ax.plot(df_scores_grid[\"param_n_neighbors\"],df_scores_grid[\"mean_test_score\"],color=\"r\")\n",
    "ax.set_xlim(1, 20)\n",
    "ax.axvline(grid.best_params_[\"n_neighbors\"], color=\"b\")"
   ]
  },
  {
   "cell_type": "code",
   "execution_count": 93,
   "id": "bf50df2a",
   "metadata": {},
   "outputs": [
    {
     "data": {
      "text/plain": [
       "KNeighborsClassifier(n_neighbors=14, p=1)"
      ]
     },
     "execution_count": 93,
     "metadata": {},
     "output_type": "execute_result"
    }
   ],
   "source": [
    "grid.best_estimator_"
   ]
  },
  {
   "cell_type": "code",
   "execution_count": 94,
   "id": "c60d564c",
   "metadata": {},
   "outputs": [
    {
     "data": {
      "text/plain": [
       "0.6421527798887436"
      ]
     },
     "execution_count": 94,
     "metadata": {},
     "output_type": "execute_result"
    }
   ],
   "source": [
    "grid.best_score_"
   ]
  },
  {
   "cell_type": "code",
   "execution_count": 146,
   "id": "c62a9c89",
   "metadata": {},
   "outputs": [
    {
     "data": {
      "text/plain": [
       "{'n_neighbors': 14, 'p': 1, 'weights': 'uniform'}"
      ]
     },
     "execution_count": 146,
     "metadata": {},
     "output_type": "execute_result"
    }
   ],
   "source": [
    "grid.best_params_"
   ]
  },
  {
   "cell_type": "code",
   "execution_count": 96,
   "id": "a620bcd0",
   "metadata": {},
   "outputs": [],
   "source": [
    "y_pred_grid = grid.predict(X_test_std)"
   ]
  },
  {
   "cell_type": "code",
   "execution_count": 97,
   "id": "133777ea",
   "metadata": {},
   "outputs": [
    {
     "data": {
      "text/plain": [
       "0.634435261707989"
      ]
     },
     "execution_count": 97,
     "metadata": {},
     "output_type": "execute_result"
    }
   ],
   "source": [
    "accuracy_score(y_test,y_pred_grid)"
   ]
  },
  {
   "cell_type": "code",
   "execution_count": 148,
   "id": "01009e9f",
   "metadata": {},
   "outputs": [],
   "source": [
    "confusion = confusion_matrix(y_test, y_pred_grid)\n"
   ]
  },
  {
   "cell_type": "code",
   "execution_count": 103,
   "id": "0a039468",
   "metadata": {},
   "outputs": [
    {
     "data": {
      "image/png": "[encoded data removed]",
      "text/plain": [
       "<Figure size 640x480 with 2 Axes>"
      ]
     },
     "metadata": {},
     "output_type": "display_data"
    }
   ],
   "source": [
    "ax = sns.heatmap(confusion, annot=True, cmap='Blues', fmt='.0f')\n",
    "\n",
    "ax.set_title('Seaborn Confusion Matrix with labels\\n\\n');\n",
    "ax.set_xlabel('\\nPredicted Values')\n",
    "ax.set_ylabel('Actual Values ');"
   ]
  },
  {
   "cell_type": "code",
   "execution_count": 181,
   "id": "3c06a030",
   "metadata": {},
   "outputs": [
    {
     "name": "stdout",
     "output_type": "stream",
     "text": [
      "              precision    recall  f1-score   support\n",
      "\n",
      "           0       0.54      0.71      0.61      1464\n",
      "           1       0.75      0.58      0.66      2166\n",
      "\n",
      "    accuracy                           0.63      3630\n",
      "   macro avg       0.64      0.65      0.63      3630\n",
      "weighted avg       0.66      0.63      0.64      3630\n",
      "\n"
     ]
    }
   ],
   "source": [
    "print(classification_report(y_test, y_pred_grid))"
   ]
  },
  {
   "cell_type": "markdown",
   "id": "b1046cc1",
   "metadata": {},
   "source": [
    "# REGRESION LOGISTICA"
   ]
  },
  {
   "cell_type": "code",
   "execution_count": 162,
   "id": "4e134f63",
   "metadata": {},
   "outputs": [],
   "source": [
    "lr_grid = LogisticRegression()"
   ]
  },
  {
   "cell_type": "code",
   "execution_count": 163,
   "id": "aff4e283",
   "metadata": {},
   "outputs": [],
   "source": [
    "gs_params_lr ={'C': [0.1,0.5,0.8, 1, 10, 100], \n",
    "            'penalty': ['l1', 'l2', 'elasticnet'], \n",
    "            'solver': ['saga', 'liblinear']} "
   ]
  },
  {
   "cell_type": "code",
   "execution_count": 164,
   "id": "e0ad5f63",
   "metadata": {},
   "outputs": [],
   "source": [
    "grid_lr = GridSearchCV(lr_grid, gs_params_lr, scoring=\"accuracy\")"
   ]
  },
  {
   "cell_type": "code",
   "execution_count": 165,
   "id": "a156fe5e",
   "metadata": {},
   "outputs": [
    {
     "name": "stderr",
     "output_type": "stream",
     "text": [
      "C:\\Users\\orest\\anaconda3\\envs\\dhdsblend2021\\lib\\site-packages\\sklearn\\model_selection\\_validation.py:548: FitFailedWarning: Estimator fit failed. The score on this train-test partition for these parameters will be set to nan. Details: \n",
      "Traceback (most recent call last):\n",
      "  File \"C:\\Users\\orest\\anaconda3\\envs\\dhdsblend2021\\lib\\site-packages\\sklearn\\model_selection\\_validation.py\", line 531, in _fit_and_score\n",
      "    estimator.fit(X_train, y_train, **fit_params)\n",
      "  File \"C:\\Users\\orest\\anaconda3\\envs\\dhdsblend2021\\lib\\site-packages\\sklearn\\linear_model\\_logistic.py\", line 1312, in fit\n",
      "    raise ValueError(\"l1_ratio must be between 0 and 1;\"\n",
      "ValueError: l1_ratio must be between 0 and 1; got (l1_ratio=None)\n",
      "\n",
      "  warnings.warn(\"Estimator fit failed. The score on this train-test\"\n",
      "C:\\Users\\orest\\anaconda3\\envs\\dhdsblend2021\\lib\\site-packages\\sklearn\\model_selection\\_validation.py:548: FitFailedWarning: Estimator fit failed. The score on this train-test partition for these parameters will be set to nan. Details: \n",
      "Traceback (most recent call last):\n",
      "  File \"C:\\Users\\orest\\anaconda3\\envs\\dhdsblend2021\\lib\\site-packages\\sklearn\\model_selection\\_validation.py\", line 531, in _fit_and_score\n",
      "    estimator.fit(X_train, y_train, **fit_params)\n",
      "  File \"C:\\Users\\orest\\anaconda3\\envs\\dhdsblend2021\\lib\\site-packages\\sklearn\\linear_model\\_logistic.py\", line 1304, in fit\n",
      "    solver = _check_solver(self.solver, self.penalty, self.dual)\n",
      "  File \"C:\\Users\\orest\\anaconda3\\envs\\dhdsblend2021\\lib\\site-packages\\sklearn\\linear_model\\_logistic.py\", line 449, in _check_solver\n",
      "    raise ValueError(\"Only 'saga' solver supports elasticnet penalty,\"\n",
      "ValueError: Only 'saga' solver supports elasticnet penalty, got solver=liblinear.\n",
      "\n",
      "  warnings.warn(\"Estimator fit failed. The score on this train-test\"\n",
      "C:\\Users\\orest\\anaconda3\\envs\\dhdsblend2021\\lib\\site-packages\\sklearn\\model_selection\\_validation.py:548: FitFailedWarning: Estimator fit failed. The score on this train-test partition for these parameters will be set to nan. Details: \n",
      "Traceback (most recent call last):\n",
      "  File \"C:\\Users\\orest\\anaconda3\\envs\\dhdsblend2021\\lib\\site-packages\\sklearn\\model_selection\\_validation.py\", line 531, in _fit_and_score\n",
      "    estimator.fit(X_train, y_train, **fit_params)\n",
      "  File \"C:\\Users\\orest\\anaconda3\\envs\\dhdsblend2021\\lib\\site-packages\\sklearn\\linear_model\\_logistic.py\", line 1312, in fit\n",
      "    raise ValueError(\"l1_ratio must be between 0 and 1;\"\n",
      "ValueError: l1_ratio must be between 0 and 1; got (l1_ratio=None)\n",
      "\n",
      "  warnings.warn(\"Estimator fit failed. The score on this train-test\"\n",
      "C:\\Users\\orest\\anaconda3\\envs\\dhdsblend2021\\lib\\site-packages\\sklearn\\model_selection\\_validation.py:548: FitFailedWarning: Estimator fit failed. The score on this train-test partition for these parameters will be set to nan. Details: \n",
      "Traceback (most recent call last):\n",
      "  File \"C:\\Users\\orest\\anaconda3\\envs\\dhdsblend2021\\lib\\site-packages\\sklearn\\model_selection\\_validation.py\", line 531, in _fit_and_score\n",
      "    estimator.fit(X_train, y_train, **fit_params)\n",
      "  File \"C:\\Users\\orest\\anaconda3\\envs\\dhdsblend2021\\lib\\site-packages\\sklearn\\linear_model\\_logistic.py\", line 1304, in fit\n",
      "    solver = _check_solver(self.solver, self.penalty, self.dual)\n",
      "  File \"C:\\Users\\orest\\anaconda3\\envs\\dhdsblend2021\\lib\\site-packages\\sklearn\\linear_model\\_logistic.py\", line 449, in _check_solver\n",
      "    raise ValueError(\"Only 'saga' solver supports elasticnet penalty,\"\n",
      "ValueError: Only 'saga' solver supports elasticnet penalty, got solver=liblinear.\n",
      "\n",
      "  warnings.warn(\"Estimator fit failed. The score on this train-test\"\n",
      "C:\\Users\\orest\\anaconda3\\envs\\dhdsblend2021\\lib\\site-packages\\sklearn\\model_selection\\_validation.py:548: FitFailedWarning: Estimator fit failed. The score on this train-test partition for these parameters will be set to nan. Details: \n",
      "Traceback (most recent call last):\n",
      "  File \"C:\\Users\\orest\\anaconda3\\envs\\dhdsblend2021\\lib\\site-packages\\sklearn\\model_selection\\_validation.py\", line 531, in _fit_and_score\n",
      "    estimator.fit(X_train, y_train, **fit_params)\n",
      "  File \"C:\\Users\\orest\\anaconda3\\envs\\dhdsblend2021\\lib\\site-packages\\sklearn\\linear_model\\_logistic.py\", line 1312, in fit\n",
      "    raise ValueError(\"l1_ratio must be between 0 and 1;\"\n",
      "ValueError: l1_ratio must be between 0 and 1; got (l1_ratio=None)\n",
      "\n",
      "  warnings.warn(\"Estimator fit failed. The score on this train-test\"\n",
      "C:\\Users\\orest\\anaconda3\\envs\\dhdsblend2021\\lib\\site-packages\\sklearn\\model_selection\\_validation.py:548: FitFailedWarning: Estimator fit failed. The score on this train-test partition for these parameters will be set to nan. Details: \n",
      "Traceback (most recent call last):\n",
      "  File \"C:\\Users\\orest\\anaconda3\\envs\\dhdsblend2021\\lib\\site-packages\\sklearn\\model_selection\\_validation.py\", line 531, in _fit_and_score\n",
      "    estimator.fit(X_train, y_train, **fit_params)\n",
      "  File \"C:\\Users\\orest\\anaconda3\\envs\\dhdsblend2021\\lib\\site-packages\\sklearn\\linear_model\\_logistic.py\", line 1304, in fit\n",
      "    solver = _check_solver(self.solver, self.penalty, self.dual)\n",
      "  File \"C:\\Users\\orest\\anaconda3\\envs\\dhdsblend2021\\lib\\site-packages\\sklearn\\linear_model\\_logistic.py\", line 449, in _check_solver\n",
      "    raise ValueError(\"Only 'saga' solver supports elasticnet penalty,\"\n",
      "ValueError: Only 'saga' solver supports elasticnet penalty, got solver=liblinear.\n",
      "\n",
      "  warnings.warn(\"Estimator fit failed. The score on this train-test\"\n",
      "C:\\Users\\orest\\anaconda3\\envs\\dhdsblend2021\\lib\\site-packages\\sklearn\\model_selection\\_validation.py:548: FitFailedWarning: Estimator fit failed. The score on this train-test partition for these parameters will be set to nan. Details: \n",
      "Traceback (most recent call last):\n",
      "  File \"C:\\Users\\orest\\anaconda3\\envs\\dhdsblend2021\\lib\\site-packages\\sklearn\\model_selection\\_validation.py\", line 531, in _fit_and_score\n",
      "    estimator.fit(X_train, y_train, **fit_params)\n",
      "  File \"C:\\Users\\orest\\anaconda3\\envs\\dhdsblend2021\\lib\\site-packages\\sklearn\\linear_model\\_logistic.py\", line 1312, in fit\n",
      "    raise ValueError(\"l1_ratio must be between 0 and 1;\"\n",
      "ValueError: l1_ratio must be between 0 and 1; got (l1_ratio=None)\n",
      "\n",
      "  warnings.warn(\"Estimator fit failed. The score on this train-test\"\n",
      "C:\\Users\\orest\\anaconda3\\envs\\dhdsblend2021\\lib\\site-packages\\sklearn\\model_selection\\_validation.py:548: FitFailedWarning: Estimator fit failed. The score on this train-test partition for these parameters will be set to nan. Details: \n",
      "Traceback (most recent call last):\n",
      "  File \"C:\\Users\\orest\\anaconda3\\envs\\dhdsblend2021\\lib\\site-packages\\sklearn\\model_selection\\_validation.py\", line 531, in _fit_and_score\n",
      "    estimator.fit(X_train, y_train, **fit_params)\n",
      "  File \"C:\\Users\\orest\\anaconda3\\envs\\dhdsblend2021\\lib\\site-packages\\sklearn\\linear_model\\_logistic.py\", line 1304, in fit\n",
      "    solver = _check_solver(self.solver, self.penalty, self.dual)\n",
      "  File \"C:\\Users\\orest\\anaconda3\\envs\\dhdsblend2021\\lib\\site-packages\\sklearn\\linear_model\\_logistic.py\", line 449, in _check_solver\n",
      "    raise ValueError(\"Only 'saga' solver supports elasticnet penalty,\"\n",
      "ValueError: Only 'saga' solver supports elasticnet penalty, got solver=liblinear.\n",
      "\n",
      "  warnings.warn(\"Estimator fit failed. The score on this train-test\"\n",
      "C:\\Users\\orest\\anaconda3\\envs\\dhdsblend2021\\lib\\site-packages\\sklearn\\model_selection\\_validation.py:548: FitFailedWarning: Estimator fit failed. The score on this train-test partition for these parameters will be set to nan. Details: \n",
      "Traceback (most recent call last):\n",
      "  File \"C:\\Users\\orest\\anaconda3\\envs\\dhdsblend2021\\lib\\site-packages\\sklearn\\model_selection\\_validation.py\", line 531, in _fit_and_score\n",
      "    estimator.fit(X_train, y_train, **fit_params)\n",
      "  File \"C:\\Users\\orest\\anaconda3\\envs\\dhdsblend2021\\lib\\site-packages\\sklearn\\linear_model\\_logistic.py\", line 1312, in fit\n",
      "    raise ValueError(\"l1_ratio must be between 0 and 1;\"\n",
      "ValueError: l1_ratio must be between 0 and 1; got (l1_ratio=None)\n",
      "\n",
      "  warnings.warn(\"Estimator fit failed. The score on this train-test\"\n",
      "C:\\Users\\orest\\anaconda3\\envs\\dhdsblend2021\\lib\\site-packages\\sklearn\\model_selection\\_validation.py:548: FitFailedWarning: Estimator fit failed. The score on this train-test partition for these parameters will be set to nan. Details: \n",
      "Traceback (most recent call last):\n",
      "  File \"C:\\Users\\orest\\anaconda3\\envs\\dhdsblend2021\\lib\\site-packages\\sklearn\\model_selection\\_validation.py\", line 531, in _fit_and_score\n",
      "    estimator.fit(X_train, y_train, **fit_params)\n",
      "  File \"C:\\Users\\orest\\anaconda3\\envs\\dhdsblend2021\\lib\\site-packages\\sklearn\\linear_model\\_logistic.py\", line 1304, in fit\n",
      "    solver = _check_solver(self.solver, self.penalty, self.dual)\n",
      "  File \"C:\\Users\\orest\\anaconda3\\envs\\dhdsblend2021\\lib\\site-packages\\sklearn\\linear_model\\_logistic.py\", line 449, in _check_solver\n",
      "    raise ValueError(\"Only 'saga' solver supports elasticnet penalty,\"\n",
      "ValueError: Only 'saga' solver supports elasticnet penalty, got solver=liblinear.\n",
      "\n",
      "  warnings.warn(\"Estimator fit failed. The score on this train-test\"\n"
     ]
    },
    {
     "name": "stderr",
     "output_type": "stream",
     "text": [
      "C:\\Users\\orest\\anaconda3\\envs\\dhdsblend2021\\lib\\site-packages\\sklearn\\model_selection\\_validation.py:548: FitFailedWarning: Estimator fit failed. The score on this train-test partition for these parameters will be set to nan. Details: \n",
      "Traceback (most recent call last):\n",
      "  File \"C:\\Users\\orest\\anaconda3\\envs\\dhdsblend2021\\lib\\site-packages\\sklearn\\model_selection\\_validation.py\", line 531, in _fit_and_score\n",
      "    estimator.fit(X_train, y_train, **fit_params)\n",
      "  File \"C:\\Users\\orest\\anaconda3\\envs\\dhdsblend2021\\lib\\site-packages\\sklearn\\linear_model\\_logistic.py\", line 1312, in fit\n",
      "    raise ValueError(\"l1_ratio must be between 0 and 1;\"\n",
      "ValueError: l1_ratio must be between 0 and 1; got (l1_ratio=None)\n",
      "\n",
      "  warnings.warn(\"Estimator fit failed. The score on this train-test\"\n",
      "C:\\Users\\orest\\anaconda3\\envs\\dhdsblend2021\\lib\\site-packages\\sklearn\\model_selection\\_validation.py:548: FitFailedWarning: Estimator fit failed. The score on this train-test partition for these parameters will be set to nan. Details: \n",
      "Traceback (most recent call last):\n",
      "  File \"C:\\Users\\orest\\anaconda3\\envs\\dhdsblend2021\\lib\\site-packages\\sklearn\\model_selection\\_validation.py\", line 531, in _fit_and_score\n",
      "    estimator.fit(X_train, y_train, **fit_params)\n",
      "  File \"C:\\Users\\orest\\anaconda3\\envs\\dhdsblend2021\\lib\\site-packages\\sklearn\\linear_model\\_logistic.py\", line 1304, in fit\n",
      "    solver = _check_solver(self.solver, self.penalty, self.dual)\n",
      "  File \"C:\\Users\\orest\\anaconda3\\envs\\dhdsblend2021\\lib\\site-packages\\sklearn\\linear_model\\_logistic.py\", line 449, in _check_solver\n",
      "    raise ValueError(\"Only 'saga' solver supports elasticnet penalty,\"\n",
      "ValueError: Only 'saga' solver supports elasticnet penalty, got solver=liblinear.\n",
      "\n",
      "  warnings.warn(\"Estimator fit failed. The score on this train-test\"\n"
     ]
    },
    {
     "data": {
      "text/plain": [
       "GridSearchCV(estimator=LogisticRegression(),\n",
       "             param_grid={'C': [0.1, 0.5, 0.8, 1, 10, 100],\n",
       "                         'penalty': ['l1', 'l2', 'elasticnet'],\n",
       "                         'solver': ['saga', 'liblinear']},\n",
       "             scoring='accuracy')"
      ]
     },
     "execution_count": 165,
     "metadata": {},
     "output_type": "execute_result"
    }
   ],
   "source": [
    "grid_lr.fit(X_train_std,y_train)"
   ]
  },
  {
   "cell_type": "code",
   "execution_count": 166,
   "id": "a3ad88c5",
   "metadata": {},
   "outputs": [
    {
     "data": {
      "text/html": [
       "<div>\n",
       "<style scoped>\n",
       "    .dataframe tbody tr th:only-of-type {\n",
       "        vertical-align: middle;\n",
       "    }\n",
       "\n",
       "    .dataframe tbody tr th {\n",
       "        vertical-align: top;\n",
       "    }\n",
       "\n",
       "    .dataframe thead th {\n",
       "        text-align: right;\n",
       "    }\n",
       "</style>\n",
       "<table border=\"1\" class=\"dataframe\">\n",
       "  <thead>\n",
       "    <tr style=\"text-align: right;\">\n",
       "      <th></th>\n",
       "      <th>mean_fit_time</th>\n",
       "      <th>std_fit_time</th>\n",
       "      <th>mean_score_time</th>\n",
       "      <th>std_score_time</th>\n",
       "      <th>param_C</th>\n",
       "      <th>param_penalty</th>\n",
       "      <th>param_solver</th>\n",
       "      <th>params</th>\n",
       "      <th>split0_test_score</th>\n",
       "      <th>split1_test_score</th>\n",
       "      <th>split2_test_score</th>\n",
       "      <th>split3_test_score</th>\n",
       "      <th>split4_test_score</th>\n",
       "      <th>mean_test_score</th>\n",
       "      <th>std_test_score</th>\n",
       "      <th>rank_test_score</th>\n",
       "    </tr>\n",
       "  </thead>\n",
       "  <tbody>\n",
       "    <tr>\n",
       "      <th>0</th>\n",
       "      <td>0.020199</td>\n",
       "      <td>0.001058</td>\n",
       "      <td>0.000824</td>\n",
       "      <td>0.000416</td>\n",
       "      <td>0.1</td>\n",
       "      <td>l1</td>\n",
       "      <td>saga</td>\n",
       "      <td>{'C': 0.1, 'penalty': 'l1', 'solver': 'saga'}</td>\n",
       "      <td>0.641791</td>\n",
       "      <td>0.628901</td>\n",
       "      <td>0.646540</td>\n",
       "      <td>0.635007</td>\n",
       "      <td>0.623218</td>\n",
       "      <td>0.635091</td>\n",
       "      <td>0.008429</td>\n",
       "      <td>24</td>\n",
       "    </tr>\n",
       "    <tr>\n",
       "      <th>1</th>\n",
       "      <td>0.008971</td>\n",
       "      <td>0.000632</td>\n",
       "      <td>0.000995</td>\n",
       "      <td>0.000002</td>\n",
       "      <td>0.1</td>\n",
       "      <td>l1</td>\n",
       "      <td>liblinear</td>\n",
       "      <td>{'C': 0.1, 'penalty': 'l1', 'solver': 'libline...</td>\n",
       "      <td>0.641791</td>\n",
       "      <td>0.630258</td>\n",
       "      <td>0.646540</td>\n",
       "      <td>0.636364</td>\n",
       "      <td>0.623218</td>\n",
       "      <td>0.635634</td>\n",
       "      <td>0.008252</td>\n",
       "      <td>23</td>\n",
       "    </tr>\n",
       "    <tr>\n",
       "      <th>2</th>\n",
       "      <td>0.014366</td>\n",
       "      <td>0.000479</td>\n",
       "      <td>0.001009</td>\n",
       "      <td>0.000030</td>\n",
       "      <td>0.1</td>\n",
       "      <td>l2</td>\n",
       "      <td>saga</td>\n",
       "      <td>{'C': 0.1, 'penalty': 'l2', 'solver': 'saga'}</td>\n",
       "      <td>0.651967</td>\n",
       "      <td>0.628223</td>\n",
       "      <td>0.649932</td>\n",
       "      <td>0.635007</td>\n",
       "      <td>0.627970</td>\n",
       "      <td>0.638620</td>\n",
       "      <td>0.010399</td>\n",
       "      <td>2</td>\n",
       "    </tr>\n",
       "  </tbody>\n",
       "</table>\n",
       "</div>"
      ],
      "text/plain": [
       "   mean_fit_time  std_fit_time  mean_score_time  std_score_time param_C  \\\n",
       "0       0.020199      0.001058         0.000824        0.000416     0.1   \n",
       "1       0.008971      0.000632         0.000995        0.000002     0.1   \n",
       "2       0.014366      0.000479         0.001009        0.000030     0.1   \n",
       "\n",
       "  param_penalty param_solver  \\\n",
       "0            l1         saga   \n",
       "1            l1    liblinear   \n",
       "2            l2         saga   \n",
       "\n",
       "                                              params  split0_test_score  \\\n",
       "0      {'C': 0.1, 'penalty': 'l1', 'solver': 'saga'}           0.641791   \n",
       "1  {'C': 0.1, 'penalty': 'l1', 'solver': 'libline...           0.641791   \n",
       "2      {'C': 0.1, 'penalty': 'l2', 'solver': 'saga'}           0.651967   \n",
       "\n",
       "   split1_test_score  split2_test_score  split3_test_score  split4_test_score  \\\n",
       "0           0.628901           0.646540           0.635007           0.623218   \n",
       "1           0.630258           0.646540           0.636364           0.623218   \n",
       "2           0.628223           0.649932           0.635007           0.627970   \n",
       "\n",
       "   mean_test_score  std_test_score  rank_test_score  \n",
       "0         0.635091        0.008429               24  \n",
       "1         0.635634        0.008252               23  \n",
       "2         0.638620        0.010399                2  "
      ]
     },
     "execution_count": 166,
     "metadata": {},
     "output_type": "execute_result"
    }
   ],
   "source": [
    "df_scores_grid_lr = pd.DataFrame(grid_lr.cv_results_)\n",
    "df_scores_grid_lr.head(3)"
   ]
  },
  {
   "cell_type": "code",
   "execution_count": 167,
   "id": "d42116f3",
   "metadata": {},
   "outputs": [
    {
     "data": {
      "text/plain": [
       "LogisticRegression(C=0.1, solver='liblinear')"
      ]
     },
     "execution_count": 167,
     "metadata": {},
     "output_type": "execute_result"
    }
   ],
   "source": [
    "grid_lr.best_estimator_"
   ]
  },
  {
   "cell_type": "code",
   "execution_count": 169,
   "id": "0e8ab1f7",
   "metadata": {},
   "outputs": [
    {
     "data": {
      "text/plain": [
       "0.639026677388838"
      ]
     },
     "execution_count": 169,
     "metadata": {},
     "output_type": "execute_result"
    }
   ],
   "source": [
    "grid_lr.best_score_"
   ]
  },
  {
   "cell_type": "code",
   "execution_count": 170,
   "id": "8b3e1d4c",
   "metadata": {},
   "outputs": [
    {
     "data": {
      "text/plain": [
       "{'C': 0.1, 'penalty': 'l2', 'solver': 'liblinear'}"
      ]
     },
     "execution_count": 170,
     "metadata": {},
     "output_type": "execute_result"
    }
   ],
   "source": [
    "grid_lr.best_params_"
   ]
  },
  {
   "cell_type": "code",
   "execution_count": 171,
   "id": "114ff428",
   "metadata": {},
   "outputs": [],
   "source": [
    "y_pred_grid_lr = grid_lr.predict(X_test_std)"
   ]
  },
  {
   "cell_type": "code",
   "execution_count": 172,
   "id": "04c8c71f",
   "metadata": {},
   "outputs": [
    {
     "data": {
      "text/plain": [
       "0.6371900826446281"
      ]
     },
     "execution_count": 172,
     "metadata": {},
     "output_type": "execute_result"
    }
   ],
   "source": [
    "accuracy_score(y_test,y_pred_grid_lr)"
   ]
  },
  {
   "cell_type": "code",
   "execution_count": 178,
   "id": "8f74edaa",
   "metadata": {},
   "outputs": [],
   "source": [
    "confusion_lr = confusion_matrix(y_test, y_pred_grid_lr)"
   ]
  },
  {
   "cell_type": "code",
   "execution_count": 179,
   "id": "487e23b3",
   "metadata": {},
   "outputs": [
    {
     "data": {
      "image/png": "[encoded data removed]",
      "text/plain": [
       "<Figure size 640x480 with 2 Axes>"
      ]
     },
     "metadata": {},
     "output_type": "display_data"
    }
   ],
   "source": [
    "ax = sns.heatmap(confusion_lr, annot=True, cmap='Blues', fmt='.0f')\n",
    "\n",
    "ax.set_title('Seaborn Confusion Matrix with labels\\n\\n');\n",
    "ax.set_xlabel('\\nPredicted Values')\n",
    "ax.set_ylabel('Actual Values ');"
   ]
  },
  {
   "cell_type": "markdown",
   "id": "88c5b0b4",
   "metadata": {},
   "source": [
    "Voy a aplicar el modelo con los mejores hiperparametros para obtener graficas representativas"
   ]
  },
  {
   "cell_type": "code",
   "execution_count": 175,
   "id": "da96ed9f",
   "metadata": {},
   "outputs": [],
   "source": [
    "lr = LogisticRegression(C= 0.1 , penalty = \"l2\" , solver = \"liblinear\")"
   ]
  },
  {
   "cell_type": "code",
   "execution_count": 176,
   "id": "105d636f",
   "metadata": {},
   "outputs": [
    {
     "data": {
      "text/plain": [
       "LogisticRegression(C=0.1, solver='liblinear')"
      ]
     },
     "execution_count": 176,
     "metadata": {},
     "output_type": "execute_result"
    }
   ],
   "source": [
    "lr.fit(X_train_std,y_train)"
   ]
  },
  {
   "cell_type": "code",
   "execution_count": 177,
   "id": "7fb6b491",
   "metadata": {},
   "outputs": [
    {
     "data": {
      "text/plain": [
       "<matplotlib.legend.Legend at 0x294e0a96460>"
      ]
     },
     "execution_count": 177,
     "metadata": {},
     "output_type": "execute_result"
    },
    {
     "data": {
      "image/png": "[encoded data removed]",
      "text/plain": [
       "<Figure size 640x480 with 1 Axes>"
      ]
     },
     "metadata": {},
     "output_type": "display_data"
    }
   ],
   "source": [
    "sns.histplot(lr.predict_proba(X_train_std[y_train==0])[:,1], stat=\"density\")\n",
    "sns.histplot(lr.predict_proba(X_train_std[y_train==1])[:,1], color=\"r\",stat=\"density\")\n",
    "ylim = plt.ylim()\n",
    "plt.vlines(0.5, ylim[0], ylim[1])\n",
    "plt.legend(['Umbral', 'On Time = 0', 'Delayed = 1'])"
   ]
  },
  {
   "cell_type": "code",
   "execution_count": 182,
   "id": "b19a7664",
   "metadata": {},
   "outputs": [
    {
     "name": "stdout",
     "output_type": "stream",
     "text": [
      "              precision    recall  f1-score   support\n",
      "\n",
      "           0       0.55      0.57      0.56      1464\n",
      "           1       0.70      0.69      0.69      2166\n",
      "\n",
      "    accuracy                           0.64      3630\n",
      "   macro avg       0.62      0.63      0.62      3630\n",
      "weighted avg       0.64      0.64      0.64      3630\n",
      "\n"
     ]
    }
   ],
   "source": [
    "print(classification_report(y_test, y_pred_grid_lr))"
   ]
  },
  {
   "cell_type": "code",
   "execution_count": null,
   "id": "bbcd6917",
   "metadata": {},
   "outputs": [],
   "source": []
  },
  {
   "cell_type": "code",
   "execution_count": null,
   "id": "10d66a43",
   "metadata": {},
   "outputs": [],
   "source": []
  },
  {
   "cell_type": "code",
   "execution_count": null,
   "id": "167a6382",
   "metadata": {},
   "outputs": [],
   "source": []
  },
  {
   "cell_type": "code",
   "execution_count": null,
   "id": "ae4de927",
   "metadata": {},
   "outputs": [],
   "source": []
  },
  {
   "cell_type": "code",
   "execution_count": null,
   "id": "4d3236d4",
   "metadata": {},
   "outputs": [],
   "source": []
  }
 ],
 "metadata": {
  "kernelspec": {
   "display_name": "Python 3 (ipykernel)",
   "language": "python",
   "name": "python3"
  },
  "language_info": {
   "codemirror_mode": {
    "name": "ipython",
    "version": 3
   },
   "file_extension": ".py",
   "mimetype": "text/x-python",
   "name": "python",
   "nbconvert_exporter": "python",
   "pygments_lexer": "ipython3",
   "version": "3.8.13"
  }
 },
 "nbformat": 4,
 "nbformat_minor": 5
}
