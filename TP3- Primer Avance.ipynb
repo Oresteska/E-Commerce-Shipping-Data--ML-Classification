{
 "cells": [
  {
   "cell_type": "markdown",
   "id": "7c669a45",
   "metadata": {},
   "source": [
    "### Importamos librerias"
   ]
  },
  {
   "cell_type": "code",
   "execution_count": 273,
   "id": "40d8699c",
   "metadata": {},
   "outputs": [],
   "source": [
    "import pandas as pd\n",
    "import numpy as np"
   ]
  },
  {
   "cell_type": "code",
   "execution_count": 274,
   "id": "cb59999e",
   "metadata": {},
   "outputs": [],
   "source": [
    "import seaborn as sns\n",
    "import matplotlib.pyplot as plt"
   ]
  },
  {
   "cell_type": "code",
   "execution_count": 275,
   "id": "43011892",
   "metadata": {},
   "outputs": [],
   "source": [
    "from sklearn.preprocessing import StandardScaler\n",
    "from sklearn.model_selection import train_test_split"
   ]
  },
  {
   "cell_type": "code",
   "execution_count": 276,
   "id": "c1fc4cfc",
   "metadata": {},
   "outputs": [],
   "source": [
    "from sklearn.linear_model import LogisticRegression\n",
    "from sklearn.neighbors import KNeighborsClassifier\n",
    "from sklearn.naive_bayes import GaussianNB\n",
    "from sklearn.naive_bayes import CategoricalNB"
   ]
  },
  {
   "cell_type": "code",
   "execution_count": 277,
   "id": "3844d685",
   "metadata": {},
   "outputs": [],
   "source": [
    "from sklearn import metrics\n",
    "from sklearn.metrics import classification_report\n",
    "from sklearn.metrics import confusion_matrix"
   ]
  },
  {
   "cell_type": "code",
   "execution_count": 278,
   "id": "91da7472",
   "metadata": {},
   "outputs": [],
   "source": [
    "#no se que onda esta\n",
    "#import warnings\n",
    "#warnings.filterwarnings('ignore')"
   ]
  },
  {
   "cell_type": "markdown",
   "id": "d401824c",
   "metadata": {},
   "source": [
    "### Estilo"
   ]
  },
  {
   "cell_type": "code",
   "execution_count": 279,
   "id": "98010c02",
   "metadata": {},
   "outputs": [],
   "source": [
    "sns.set()\n",
    "plt.style.use('classic')\n",
    "sns.mpl.rcParams['axes.titlesize'] = 20\n",
    "sns.mpl.rcParams['axes.labelsize'] = 18"
   ]
  },
  {
   "cell_type": "markdown",
   "id": "c619298a",
   "metadata": {},
   "source": [
    "### Dataset"
   ]
  },
  {
   "cell_type": "markdown",
   "id": "ff688fe6",
   "metadata": {},
   "source": [
    "Autor: PRACHI GOPALANI"
   ]
  },
  {
   "cell_type": "code",
   "execution_count": 280,
   "id": "13daf260",
   "metadata": {},
   "outputs": [],
   "source": [
    "# levantando el csv de Train\n",
    "data = pd.read_csv('../TP3_SOCZ/Train.csv')"
   ]
  },
  {
   "cell_type": "code",
   "execution_count": 281,
   "id": "034b1bf1",
   "metadata": {},
   "outputs": [
    {
     "data": {
      "text/html": [
       "<div>\n",
       "<style scoped>\n",
       "    .dataframe tbody tr th:only-of-type {\n",
       "        vertical-align: middle;\n",
       "    }\n",
       "\n",
       "    .dataframe tbody tr th {\n",
       "        vertical-align: top;\n",
       "    }\n",
       "\n",
       "    .dataframe thead th {\n",
       "        text-align: right;\n",
       "    }\n",
       "</style>\n",
       "<table border=\"1\" class=\"dataframe\">\n",
       "  <thead>\n",
       "    <tr style=\"text-align: right;\">\n",
       "      <th></th>\n",
       "      <th>ID</th>\n",
       "      <th>Warehouse_block</th>\n",
       "      <th>Mode_of_Shipment</th>\n",
       "      <th>Customer_care_calls</th>\n",
       "      <th>Customer_rating</th>\n",
       "      <th>Cost_of_the_Product</th>\n",
       "      <th>Prior_purchases</th>\n",
       "      <th>Product_importance</th>\n",
       "      <th>Gender</th>\n",
       "      <th>Discount_offered</th>\n",
       "      <th>Weight_in_gms</th>\n",
       "      <th>Reached.on.Time_Y.N</th>\n",
       "    </tr>\n",
       "  </thead>\n",
       "  <tbody>\n",
       "    <tr>\n",
       "      <th>0</th>\n",
       "      <td>1</td>\n",
       "      <td>D</td>\n",
       "      <td>Flight</td>\n",
       "      <td>4</td>\n",
       "      <td>2</td>\n",
       "      <td>177</td>\n",
       "      <td>3</td>\n",
       "      <td>low</td>\n",
       "      <td>F</td>\n",
       "      <td>44</td>\n",
       "      <td>1233</td>\n",
       "      <td>1</td>\n",
       "    </tr>\n",
       "    <tr>\n",
       "      <th>1</th>\n",
       "      <td>2</td>\n",
       "      <td>F</td>\n",
       "      <td>Flight</td>\n",
       "      <td>4</td>\n",
       "      <td>5</td>\n",
       "      <td>216</td>\n",
       "      <td>2</td>\n",
       "      <td>low</td>\n",
       "      <td>M</td>\n",
       "      <td>59</td>\n",
       "      <td>3088</td>\n",
       "      <td>1</td>\n",
       "    </tr>\n",
       "    <tr>\n",
       "      <th>2</th>\n",
       "      <td>3</td>\n",
       "      <td>A</td>\n",
       "      <td>Flight</td>\n",
       "      <td>2</td>\n",
       "      <td>2</td>\n",
       "      <td>183</td>\n",
       "      <td>4</td>\n",
       "      <td>low</td>\n",
       "      <td>M</td>\n",
       "      <td>48</td>\n",
       "      <td>3374</td>\n",
       "      <td>1</td>\n",
       "    </tr>\n",
       "    <tr>\n",
       "      <th>3</th>\n",
       "      <td>4</td>\n",
       "      <td>B</td>\n",
       "      <td>Flight</td>\n",
       "      <td>3</td>\n",
       "      <td>3</td>\n",
       "      <td>176</td>\n",
       "      <td>4</td>\n",
       "      <td>medium</td>\n",
       "      <td>M</td>\n",
       "      <td>10</td>\n",
       "      <td>1177</td>\n",
       "      <td>1</td>\n",
       "    </tr>\n",
       "    <tr>\n",
       "      <th>4</th>\n",
       "      <td>5</td>\n",
       "      <td>C</td>\n",
       "      <td>Flight</td>\n",
       "      <td>2</td>\n",
       "      <td>2</td>\n",
       "      <td>184</td>\n",
       "      <td>3</td>\n",
       "      <td>medium</td>\n",
       "      <td>F</td>\n",
       "      <td>46</td>\n",
       "      <td>2484</td>\n",
       "      <td>1</td>\n",
       "    </tr>\n",
       "  </tbody>\n",
       "</table>\n",
       "</div>"
      ],
      "text/plain": [
       "   ID Warehouse_block Mode_of_Shipment  Customer_care_calls  Customer_rating  \\\n",
       "0   1               D           Flight                    4                2   \n",
       "1   2               F           Flight                    4                5   \n",
       "2   3               A           Flight                    2                2   \n",
       "3   4               B           Flight                    3                3   \n",
       "4   5               C           Flight                    2                2   \n",
       "\n",
       "   Cost_of_the_Product  Prior_purchases Product_importance Gender  \\\n",
       "0                  177                3                low      F   \n",
       "1                  216                2                low      M   \n",
       "2                  183                4                low      M   \n",
       "3                  176                4             medium      M   \n",
       "4                  184                3             medium      F   \n",
       "\n",
       "   Discount_offered  Weight_in_gms  Reached.on.Time_Y.N  \n",
       "0                44           1233                    1  \n",
       "1                59           3088                    1  \n",
       "2                48           3374                    1  \n",
       "3                10           1177                    1  \n",
       "4                46           2484                    1  "
      ]
     },
     "execution_count": 281,
     "metadata": {},
     "output_type": "execute_result"
    }
   ],
   "source": [
    "data.head()"
   ]
  },
  {
   "cell_type": "code",
   "execution_count": 282,
   "id": "9d56a1d4",
   "metadata": {},
   "outputs": [],
   "source": [
    "data = data.rename(columns={'Reached.on.Time_Y.N': 'On_time'})"
   ]
  },
  {
   "cell_type": "code",
   "execution_count": 283,
   "id": "447815de",
   "metadata": {
    "scrolled": true
   },
   "outputs": [
    {
     "data": {
      "text/html": [
       "<div>\n",
       "<style scoped>\n",
       "    .dataframe tbody tr th:only-of-type {\n",
       "        vertical-align: middle;\n",
       "    }\n",
       "\n",
       "    .dataframe tbody tr th {\n",
       "        vertical-align: top;\n",
       "    }\n",
       "\n",
       "    .dataframe thead th {\n",
       "        text-align: right;\n",
       "    }\n",
       "</style>\n",
       "<table border=\"1\" class=\"dataframe\">\n",
       "  <thead>\n",
       "    <tr style=\"text-align: right;\">\n",
       "      <th></th>\n",
       "      <th>ID</th>\n",
       "      <th>Warehouse_block</th>\n",
       "      <th>Mode_of_Shipment</th>\n",
       "      <th>Customer_care_calls</th>\n",
       "      <th>Customer_rating</th>\n",
       "      <th>Cost_of_the_Product</th>\n",
       "      <th>Prior_purchases</th>\n",
       "      <th>Product_importance</th>\n",
       "      <th>Gender</th>\n",
       "      <th>Discount_offered</th>\n",
       "      <th>Weight_in_gms</th>\n",
       "      <th>On_time</th>\n",
       "    </tr>\n",
       "  </thead>\n",
       "  <tbody>\n",
       "    <tr>\n",
       "      <th>0</th>\n",
       "      <td>1</td>\n",
       "      <td>D</td>\n",
       "      <td>Flight</td>\n",
       "      <td>4</td>\n",
       "      <td>2</td>\n",
       "      <td>177</td>\n",
       "      <td>3</td>\n",
       "      <td>low</td>\n",
       "      <td>F</td>\n",
       "      <td>44</td>\n",
       "      <td>1233</td>\n",
       "      <td>1</td>\n",
       "    </tr>\n",
       "    <tr>\n",
       "      <th>1</th>\n",
       "      <td>2</td>\n",
       "      <td>F</td>\n",
       "      <td>Flight</td>\n",
       "      <td>4</td>\n",
       "      <td>5</td>\n",
       "      <td>216</td>\n",
       "      <td>2</td>\n",
       "      <td>low</td>\n",
       "      <td>M</td>\n",
       "      <td>59</td>\n",
       "      <td>3088</td>\n",
       "      <td>1</td>\n",
       "    </tr>\n",
       "    <tr>\n",
       "      <th>2</th>\n",
       "      <td>3</td>\n",
       "      <td>A</td>\n",
       "      <td>Flight</td>\n",
       "      <td>2</td>\n",
       "      <td>2</td>\n",
       "      <td>183</td>\n",
       "      <td>4</td>\n",
       "      <td>low</td>\n",
       "      <td>M</td>\n",
       "      <td>48</td>\n",
       "      <td>3374</td>\n",
       "      <td>1</td>\n",
       "    </tr>\n",
       "    <tr>\n",
       "      <th>3</th>\n",
       "      <td>4</td>\n",
       "      <td>B</td>\n",
       "      <td>Flight</td>\n",
       "      <td>3</td>\n",
       "      <td>3</td>\n",
       "      <td>176</td>\n",
       "      <td>4</td>\n",
       "      <td>medium</td>\n",
       "      <td>M</td>\n",
       "      <td>10</td>\n",
       "      <td>1177</td>\n",
       "      <td>1</td>\n",
       "    </tr>\n",
       "    <tr>\n",
       "      <th>4</th>\n",
       "      <td>5</td>\n",
       "      <td>C</td>\n",
       "      <td>Flight</td>\n",
       "      <td>2</td>\n",
       "      <td>2</td>\n",
       "      <td>184</td>\n",
       "      <td>3</td>\n",
       "      <td>medium</td>\n",
       "      <td>F</td>\n",
       "      <td>46</td>\n",
       "      <td>2484</td>\n",
       "      <td>1</td>\n",
       "    </tr>\n",
       "  </tbody>\n",
       "</table>\n",
       "</div>"
      ],
      "text/plain": [
       "   ID Warehouse_block Mode_of_Shipment  Customer_care_calls  Customer_rating  \\\n",
       "0   1               D           Flight                    4                2   \n",
       "1   2               F           Flight                    4                5   \n",
       "2   3               A           Flight                    2                2   \n",
       "3   4               B           Flight                    3                3   \n",
       "4   5               C           Flight                    2                2   \n",
       "\n",
       "   Cost_of_the_Product  Prior_purchases Product_importance Gender  \\\n",
       "0                  177                3                low      F   \n",
       "1                  216                2                low      M   \n",
       "2                  183                4                low      M   \n",
       "3                  176                4             medium      M   \n",
       "4                  184                3             medium      F   \n",
       "\n",
       "   Discount_offered  Weight_in_gms  On_time  \n",
       "0                44           1233        1  \n",
       "1                59           3088        1  \n",
       "2                48           3374        1  \n",
       "3                10           1177        1  \n",
       "4                46           2484        1  "
      ]
     },
     "execution_count": 283,
     "metadata": {},
     "output_type": "execute_result"
    }
   ],
   "source": [
    "data.head()"
   ]
  },
  {
   "cell_type": "markdown",
   "id": "dd2b5698",
   "metadata": {},
   "source": [
    "Importante aclarar lo siguiente: \"On time: it is the target variable, \n",
    "where 1 Indicates that the product has NOT reached on time and 0 indicates it has reached on time.\""
   ]
  },
  {
   "cell_type": "markdown",
   "id": "1beabade",
   "metadata": {},
   "source": [
    "### Funciones"
   ]
  },
  {
   "cell_type": "code",
   "execution_count": 284,
   "id": "f9bf2fb1",
   "metadata": {},
   "outputs": [],
   "source": [
    "def basic_EDA(data) :\n",
    "    u'''\n",
    "    Basic EDA routine for this practice\n",
    "    '''\n",
    "    \n",
    "    print()\n",
    "    print(\"Observaciones\", data.shape[0], \"Features\", data.shape[1])\n",
    "    display(data.head(5))\n",
    "    \n",
    "    print()\n",
    "    print(\"Descripción de las features\")\n",
    "    display(data.describe())\n",
    "    \n",
    "    print()\n",
    "    print(\"Valores nulos\")\n",
    "    display(data.isnull().sum())\n",
    "    \n",
    "    print()\n",
    "    print(\"Tipos de dato\")\n",
    "    display(data.dtypes)\n",
    "    \n",
    "    print()\n",
    "    print(\"Cantidad de valores únicos\")\n",
    "    for i in data.columns:\n",
    "        print(i,data[i].nunique())\n",
    "\n",
    "    # La característica Score_point es del tipo objet y presenta valores no numéricos\n",
    "    # al no contar con información sobre su significado se elimina del dataset\n",
    "    #data.drop('Score_point', axis=1, inplace=True)\n",
    "\n",
    "    # to have more legibility\n",
    "    #data['label_means'] = data['label'].map({0 : 'insolvency', 1 : 'pay credit'})\n",
    "    \n",
    "    # to have more legibility\n",
    "    data['On_time_means'] = data['On_time'].map({0 : 'on_time', 1 : 'delayed'})  \n",
    "    \n",
    "    return data"
   ]
  },
  {
   "cell_type": "code",
   "execution_count": 285,
   "id": "5b11b1ba",
   "metadata": {},
   "outputs": [],
   "source": [
    "def show_some_plots(data, columns, target=None, cols=4) :\n",
    "    u'''\n",
    "    Display some countplots graphs for specific columns in dataset\n",
    "\n",
    "    args\n",
    "        data : dataset\n",
    "        columns : series to count\n",
    "        target : binary values to split the count; if is None draw a simple countplot\n",
    "        cols : number of columns for the subplots; default is 4\n",
    "    \n",
    "    Original from Flavio Cavalcante at https://www.kaggle.com/code/flaviocavalcante/simple-eda-to-start\n",
    "    '''\n",
    "    \n",
    "    rows = (len(columns) / cols) + 1\n",
    "    if target != None :\n",
    "        rows *= 2\n",
    "    for i, column in enumerate(data[columns]) :\n",
    "        if target == None :\n",
    "            plt.subplot(rows, cols, i+1)\n",
    "            sns.countplot(y=data[column])\n",
    "            plt.tight_layout();\n",
    "            plt.xlabel(None);\n",
    "        else :\n",
    "            # standar count plot\n",
    "            plt.subplot(rows, cols, i*2+1)\n",
    "            sns.countplot(y=data[column])\n",
    "            plt.tight_layout();\n",
    "            plt.xlabel(None);\n",
    "            \n",
    "            # count by target values\n",
    "            plt.subplot(rows, cols, i*2+2)\n",
    "            sns.countplot(data=data, x=column, hue=target)\n",
    "            plt.tight_layout();\n",
    "            plt.xlabel(column);\n",
    "    return"
   ]
  },
  {
   "cell_type": "code",
   "execution_count": 286,
   "id": "51cab5f0",
   "metadata": {},
   "outputs": [],
   "source": [
    "def show_some_hists(data, columns, target=None, cols=4) :\n",
    "    u'''\n",
    "    Display some histograms graphs for specific columns in dataset\n",
    "\n",
    "    args\n",
    "        data : dataset\n",
    "        columns : series to show \n",
    "        target : binary values to split the count; if is None draw a simple histplot\n",
    "        cols : number of columns for the subplots; default is 4\n",
    "    \n",
    "    Original from Flavio Cavalcante at https://www.kaggle.com/code/flaviocavalcante/simple-eda-to-start\n",
    "    '''\n",
    "    \n",
    "    rows = (len(columns) / cols) + 1\n",
    "    for i, column in enumerate(data[columns]) :\n",
    "        plt.subplot(rows, cols, i+1)\n",
    "        sns.histplot(data=data, x=column, kde=True, hue=target)\n",
    "        plt.tight_layout();\n",
    "        plt.xlabel(column);\n",
    "        plt.ylabel(None);\n",
    "    return"
   ]
  },
  {
   "cell_type": "code",
   "execution_count": 287,
   "id": "b5d38531",
   "metadata": {},
   "outputs": [],
   "source": [
    "def show_some_boxplots(data, columns, target=None, cols=4) :\n",
    "    u'''\n",
    "    Display some boxplots graphs for specific columns in dataset\n",
    "\n",
    "    args\n",
    "        data : dataset\n",
    "        columns : series to show\n",
    "        target : binary values to split the histogram; if is None draw a simple histplot\n",
    "        cols : number of columns for the subplots; default is 4\n",
    "    \n",
    "    Original from Flavio Cavalcante at https://www.kaggle.com/code/flaviocavalcante/simple-eda-to-start\n",
    "    '''\n",
    "    \n",
    "    rows = (len(columns) / cols) + 1\n",
    "    for i, column in enumerate(data[columns]) :\n",
    "        plt.subplot(rows, cols, i+1)\n",
    "        sns.boxplot(data=data, x=target, y=column, palette=\"RdYlBu\")\n",
    "        plt.tight_layout();\n",
    "        plt.xlabel(None);\n",
    "        plt.ylabel(column);\n",
    "    return"
   ]
  },
  {
   "cell_type": "markdown",
   "id": "1cdb2835",
   "metadata": {},
   "source": [
    "#la dejo como estaba para tener el original\n",
    "def basic_plots(data) :\n",
    "    u'''\n",
    "    Shows counts plots for this practice\n",
    "    '''\n",
    "    \n",
    "    fig = plt.figure(figsize=(25,40));\n",
    "    fig.suptitle('\\nCaracteríscias y su relación con el objetivo\\n', \n",
    "                 verticalalignment='center', fontsize='xx-large', fontweight='extra bold')\n",
    "    columns = list(data.drop(['label', 'label_means'], axis=1).columns)\n",
    "    show_some_plots(data=data, columns=columns, target='label_means')\n",
    "    \n",
    "    return"
   ]
  },
  {
   "cell_type": "code",
   "execution_count": 288,
   "id": "f2e7458d",
   "metadata": {},
   "outputs": [],
   "source": [
    "def basic_plots(data) :\n",
    "    u'''\n",
    "    Shows counts plots for this practice\n",
    "    '''\n",
    "    \n",
    "    fig = plt.figure(figsize=(25,40));\n",
    "    fig.suptitle('\\nCaracteríscias y su relación con el objetivo\\n', \n",
    "                 verticalalignment='center', fontsize='xx-large', fontweight='extra bold')\n",
    "    columns = list(data.drop(['ID'], axis=1).columns)\n",
    "    show_some_plots(data=data, columns=columns, target='ID')\n",
    "    \n",
    "    return"
   ]
  },
  {
   "cell_type": "code",
   "execution_count": 289,
   "id": "db5b5c79",
   "metadata": {},
   "outputs": [],
   "source": [
    "def basic_hists(data) :\n",
    "    u'''\n",
    "    Shows histogrms for this practice\n",
    "    '''\n",
    "    \n",
    "    fig = plt.figure(figsize=(25,25));\n",
    "    fig.suptitle('\\nHistogramas\\n', verticalalignment='center', \n",
    "                 fontsize='xx-large', fontweight='extra bold')\n",
    "    columns = list(data.drop(['On_time', 'On_time_means'], axis=1).columns)\n",
    "    show_some_hists(data=data, columns=columns, target='On_time_means')\n",
    "\n",
    "    return"
   ]
  },
  {
   "cell_type": "code",
   "execution_count": 290,
   "id": "f3a414ba",
   "metadata": {},
   "outputs": [],
   "source": [
    "def basic_boxplots(data) :\n",
    "    u'''\n",
    "    Shows bosx plots for this practice\n",
    "    '''\n",
    "    \n",
    "    fig = plt.figure(figsize=(25,25));\n",
    "    fig.suptitle('\\nVariación de algunas características según el objetivo (insolvente si o no)\\n', \n",
    "                 verticalalignment='center', fontsize='xx-large', fontweight='extra bold')\n",
    "    columns=['Age', 'Marital', 'Field', 'Month_of_birth', 'Region', \n",
    "             'Number_of_credits', 'Linked_cards', 'Score_level', 'Score_class', 'Changed_phone_number']\n",
    "    show_some_boxplots(data=data, columns=columns, target='On_time_means', cols=5)\n",
    "\n",
    "    return"
   ]
  },
  {
   "cell_type": "markdown",
   "id": "2f9b645e",
   "metadata": {},
   "source": [
    "#### EDA (Exploratory Data Analysis)"
   ]
  },
  {
   "cell_type": "code",
   "execution_count": 291,
   "id": "ffbf51aa",
   "metadata": {
    "scrolled": false
   },
   "outputs": [
    {
     "name": "stdout",
     "output_type": "stream",
     "text": [
      "\n",
      "Observaciones 10999 Features 12\n"
     ]
    },
    {
     "data": {
      "text/html": [
       "<div>\n",
       "<style scoped>\n",
       "    .dataframe tbody tr th:only-of-type {\n",
       "        vertical-align: middle;\n",
       "    }\n",
       "\n",
       "    .dataframe tbody tr th {\n",
       "        vertical-align: top;\n",
       "    }\n",
       "\n",
       "    .dataframe thead th {\n",
       "        text-align: right;\n",
       "    }\n",
       "</style>\n",
       "<table border=\"1\" class=\"dataframe\">\n",
       "  <thead>\n",
       "    <tr style=\"text-align: right;\">\n",
       "      <th></th>\n",
       "      <th>ID</th>\n",
       "      <th>Warehouse_block</th>\n",
       "      <th>Mode_of_Shipment</th>\n",
       "      <th>Customer_care_calls</th>\n",
       "      <th>Customer_rating</th>\n",
       "      <th>Cost_of_the_Product</th>\n",
       "      <th>Prior_purchases</th>\n",
       "      <th>Product_importance</th>\n",
       "      <th>Gender</th>\n",
       "      <th>Discount_offered</th>\n",
       "      <th>Weight_in_gms</th>\n",
       "      <th>On_time</th>\n",
       "    </tr>\n",
       "  </thead>\n",
       "  <tbody>\n",
       "    <tr>\n",
       "      <th>0</th>\n",
       "      <td>1</td>\n",
       "      <td>D</td>\n",
       "      <td>Flight</td>\n",
       "      <td>4</td>\n",
       "      <td>2</td>\n",
       "      <td>177</td>\n",
       "      <td>3</td>\n",
       "      <td>low</td>\n",
       "      <td>F</td>\n",
       "      <td>44</td>\n",
       "      <td>1233</td>\n",
       "      <td>1</td>\n",
       "    </tr>\n",
       "    <tr>\n",
       "      <th>1</th>\n",
       "      <td>2</td>\n",
       "      <td>F</td>\n",
       "      <td>Flight</td>\n",
       "      <td>4</td>\n",
       "      <td>5</td>\n",
       "      <td>216</td>\n",
       "      <td>2</td>\n",
       "      <td>low</td>\n",
       "      <td>M</td>\n",
       "      <td>59</td>\n",
       "      <td>3088</td>\n",
       "      <td>1</td>\n",
       "    </tr>\n",
       "    <tr>\n",
       "      <th>2</th>\n",
       "      <td>3</td>\n",
       "      <td>A</td>\n",
       "      <td>Flight</td>\n",
       "      <td>2</td>\n",
       "      <td>2</td>\n",
       "      <td>183</td>\n",
       "      <td>4</td>\n",
       "      <td>low</td>\n",
       "      <td>M</td>\n",
       "      <td>48</td>\n",
       "      <td>3374</td>\n",
       "      <td>1</td>\n",
       "    </tr>\n",
       "    <tr>\n",
       "      <th>3</th>\n",
       "      <td>4</td>\n",
       "      <td>B</td>\n",
       "      <td>Flight</td>\n",
       "      <td>3</td>\n",
       "      <td>3</td>\n",
       "      <td>176</td>\n",
       "      <td>4</td>\n",
       "      <td>medium</td>\n",
       "      <td>M</td>\n",
       "      <td>10</td>\n",
       "      <td>1177</td>\n",
       "      <td>1</td>\n",
       "    </tr>\n",
       "    <tr>\n",
       "      <th>4</th>\n",
       "      <td>5</td>\n",
       "      <td>C</td>\n",
       "      <td>Flight</td>\n",
       "      <td>2</td>\n",
       "      <td>2</td>\n",
       "      <td>184</td>\n",
       "      <td>3</td>\n",
       "      <td>medium</td>\n",
       "      <td>F</td>\n",
       "      <td>46</td>\n",
       "      <td>2484</td>\n",
       "      <td>1</td>\n",
       "    </tr>\n",
       "  </tbody>\n",
       "</table>\n",
       "</div>"
      ],
      "text/plain": [
       "   ID Warehouse_block Mode_of_Shipment  Customer_care_calls  Customer_rating  \\\n",
       "0   1               D           Flight                    4                2   \n",
       "1   2               F           Flight                    4                5   \n",
       "2   3               A           Flight                    2                2   \n",
       "3   4               B           Flight                    3                3   \n",
       "4   5               C           Flight                    2                2   \n",
       "\n",
       "   Cost_of_the_Product  Prior_purchases Product_importance Gender  \\\n",
       "0                  177                3                low      F   \n",
       "1                  216                2                low      M   \n",
       "2                  183                4                low      M   \n",
       "3                  176                4             medium      M   \n",
       "4                  184                3             medium      F   \n",
       "\n",
       "   Discount_offered  Weight_in_gms  On_time  \n",
       "0                44           1233        1  \n",
       "1                59           3088        1  \n",
       "2                48           3374        1  \n",
       "3                10           1177        1  \n",
       "4                46           2484        1  "
      ]
     },
     "metadata": {},
     "output_type": "display_data"
    },
    {
     "name": "stdout",
     "output_type": "stream",
     "text": [
      "\n",
      "Descripción de las features\n"
     ]
    },
    {
     "data": {
      "text/html": [
       "<div>\n",
       "<style scoped>\n",
       "    .dataframe tbody tr th:only-of-type {\n",
       "        vertical-align: middle;\n",
       "    }\n",
       "\n",
       "    .dataframe tbody tr th {\n",
       "        vertical-align: top;\n",
       "    }\n",
       "\n",
       "    .dataframe thead th {\n",
       "        text-align: right;\n",
       "    }\n",
       "</style>\n",
       "<table border=\"1\" class=\"dataframe\">\n",
       "  <thead>\n",
       "    <tr style=\"text-align: right;\">\n",
       "      <th></th>\n",
       "      <th>ID</th>\n",
       "      <th>Customer_care_calls</th>\n",
       "      <th>Customer_rating</th>\n",
       "      <th>Cost_of_the_Product</th>\n",
       "      <th>Prior_purchases</th>\n",
       "      <th>Discount_offered</th>\n",
       "      <th>Weight_in_gms</th>\n",
       "      <th>On_time</th>\n",
       "    </tr>\n",
       "  </thead>\n",
       "  <tbody>\n",
       "    <tr>\n",
       "      <th>count</th>\n",
       "      <td>10999.00000</td>\n",
       "      <td>10999.000000</td>\n",
       "      <td>10999.000000</td>\n",
       "      <td>10999.000000</td>\n",
       "      <td>10999.000000</td>\n",
       "      <td>10999.000000</td>\n",
       "      <td>10999.000000</td>\n",
       "      <td>10999.000000</td>\n",
       "    </tr>\n",
       "    <tr>\n",
       "      <th>mean</th>\n",
       "      <td>5500.00000</td>\n",
       "      <td>4.054459</td>\n",
       "      <td>2.990545</td>\n",
       "      <td>210.196836</td>\n",
       "      <td>3.567597</td>\n",
       "      <td>13.373216</td>\n",
       "      <td>3634.016729</td>\n",
       "      <td>0.596691</td>\n",
       "    </tr>\n",
       "    <tr>\n",
       "      <th>std</th>\n",
       "      <td>3175.28214</td>\n",
       "      <td>1.141490</td>\n",
       "      <td>1.413603</td>\n",
       "      <td>48.063272</td>\n",
       "      <td>1.522860</td>\n",
       "      <td>16.205527</td>\n",
       "      <td>1635.377251</td>\n",
       "      <td>0.490584</td>\n",
       "    </tr>\n",
       "    <tr>\n",
       "      <th>min</th>\n",
       "      <td>1.00000</td>\n",
       "      <td>2.000000</td>\n",
       "      <td>1.000000</td>\n",
       "      <td>96.000000</td>\n",
       "      <td>2.000000</td>\n",
       "      <td>1.000000</td>\n",
       "      <td>1001.000000</td>\n",
       "      <td>0.000000</td>\n",
       "    </tr>\n",
       "    <tr>\n",
       "      <th>25%</th>\n",
       "      <td>2750.50000</td>\n",
       "      <td>3.000000</td>\n",
       "      <td>2.000000</td>\n",
       "      <td>169.000000</td>\n",
       "      <td>3.000000</td>\n",
       "      <td>4.000000</td>\n",
       "      <td>1839.500000</td>\n",
       "      <td>0.000000</td>\n",
       "    </tr>\n",
       "    <tr>\n",
       "      <th>50%</th>\n",
       "      <td>5500.00000</td>\n",
       "      <td>4.000000</td>\n",
       "      <td>3.000000</td>\n",
       "      <td>214.000000</td>\n",
       "      <td>3.000000</td>\n",
       "      <td>7.000000</td>\n",
       "      <td>4149.000000</td>\n",
       "      <td>1.000000</td>\n",
       "    </tr>\n",
       "    <tr>\n",
       "      <th>75%</th>\n",
       "      <td>8249.50000</td>\n",
       "      <td>5.000000</td>\n",
       "      <td>4.000000</td>\n",
       "      <td>251.000000</td>\n",
       "      <td>4.000000</td>\n",
       "      <td>10.000000</td>\n",
       "      <td>5050.000000</td>\n",
       "      <td>1.000000</td>\n",
       "    </tr>\n",
       "    <tr>\n",
       "      <th>max</th>\n",
       "      <td>10999.00000</td>\n",
       "      <td>7.000000</td>\n",
       "      <td>5.000000</td>\n",
       "      <td>310.000000</td>\n",
       "      <td>10.000000</td>\n",
       "      <td>65.000000</td>\n",
       "      <td>7846.000000</td>\n",
       "      <td>1.000000</td>\n",
       "    </tr>\n",
       "  </tbody>\n",
       "</table>\n",
       "</div>"
      ],
      "text/plain": [
       "                ID  Customer_care_calls  Customer_rating  Cost_of_the_Product  \\\n",
       "count  10999.00000         10999.000000     10999.000000         10999.000000   \n",
       "mean    5500.00000             4.054459         2.990545           210.196836   \n",
       "std     3175.28214             1.141490         1.413603            48.063272   \n",
       "min        1.00000             2.000000         1.000000            96.000000   \n",
       "25%     2750.50000             3.000000         2.000000           169.000000   \n",
       "50%     5500.00000             4.000000         3.000000           214.000000   \n",
       "75%     8249.50000             5.000000         4.000000           251.000000   \n",
       "max    10999.00000             7.000000         5.000000           310.000000   \n",
       "\n",
       "       Prior_purchases  Discount_offered  Weight_in_gms       On_time  \n",
       "count     10999.000000      10999.000000   10999.000000  10999.000000  \n",
       "mean          3.567597         13.373216    3634.016729      0.596691  \n",
       "std           1.522860         16.205527    1635.377251      0.490584  \n",
       "min           2.000000          1.000000    1001.000000      0.000000  \n",
       "25%           3.000000          4.000000    1839.500000      0.000000  \n",
       "50%           3.000000          7.000000    4149.000000      1.000000  \n",
       "75%           4.000000         10.000000    5050.000000      1.000000  \n",
       "max          10.000000         65.000000    7846.000000      1.000000  "
      ]
     },
     "metadata": {},
     "output_type": "display_data"
    },
    {
     "name": "stdout",
     "output_type": "stream",
     "text": [
      "\n",
      "Valores nulos\n"
     ]
    },
    {
     "data": {
      "text/plain": [
       "ID                     0\n",
       "Warehouse_block        0\n",
       "Mode_of_Shipment       0\n",
       "Customer_care_calls    0\n",
       "Customer_rating        0\n",
       "Cost_of_the_Product    0\n",
       "Prior_purchases        0\n",
       "Product_importance     0\n",
       "Gender                 0\n",
       "Discount_offered       0\n",
       "Weight_in_gms          0\n",
       "On_time                0\n",
       "dtype: int64"
      ]
     },
     "metadata": {},
     "output_type": "display_data"
    },
    {
     "name": "stdout",
     "output_type": "stream",
     "text": [
      "\n",
      "Tipos de dato\n"
     ]
    },
    {
     "data": {
      "text/plain": [
       "ID                      int64\n",
       "Warehouse_block        object\n",
       "Mode_of_Shipment       object\n",
       "Customer_care_calls     int64\n",
       "Customer_rating         int64\n",
       "Cost_of_the_Product     int64\n",
       "Prior_purchases         int64\n",
       "Product_importance     object\n",
       "Gender                 object\n",
       "Discount_offered        int64\n",
       "Weight_in_gms           int64\n",
       "On_time                 int64\n",
       "dtype: object"
      ]
     },
     "metadata": {},
     "output_type": "display_data"
    },
    {
     "name": "stdout",
     "output_type": "stream",
     "text": [
      "\n",
      "Cantidad de valores únicos\n",
      "ID 10999\n",
      "Warehouse_block 5\n",
      "Mode_of_Shipment 3\n",
      "Customer_care_calls 6\n",
      "Customer_rating 5\n",
      "Cost_of_the_Product 215\n",
      "Prior_purchases 8\n",
      "Product_importance 3\n",
      "Gender 2\n",
      "Discount_offered 65\n",
      "Weight_in_gms 4034\n",
      "On_time 2\n"
     ]
    }
   ],
   "source": [
    "data = basic_EDA(data)"
   ]
  },
  {
   "cell_type": "code",
   "execution_count": 292,
   "id": "3542a85d",
   "metadata": {},
   "outputs": [
    {
     "name": "stdout",
     "output_type": "stream",
     "text": [
      "\n",
      "Variables categoricas\n",
      "['Warehouse_block', 'Mode_of_Shipment', 'Product_importance', 'Gender', 'On_time_means']\n",
      "\n",
      "Variables numericas\n",
      "['ID', 'Customer_care_calls', 'Customer_rating', 'Cost_of_the_Product', 'Prior_purchases', 'Discount_offered', 'Weight_in_gms', 'On_time']\n"
     ]
    }
   ],
   "source": [
    "print()\n",
    "print(\"Variables categoricas\")\n",
    "categoricas = [column for column in data.columns if data[column].dtypes == object ]\n",
    "print(categoricas)\n",
    "    \n",
    "    \n",
    "print()\n",
    "print(\"Variables numericas\")\n",
    "numericas = [column for column in data.columns if data[column].dtypes == \"int64\" ]\n",
    "print(numericas)"
   ]
  },
  {
   "cell_type": "markdown",
   "id": "a860214c",
   "metadata": {},
   "source": [
    "Vemos que todas las variables númericas son int, por ende no hace falta transformar nada."
   ]
  },
  {
   "cell_type": "code",
   "execution_count": 293,
   "id": "707072b6",
   "metadata": {
    "scrolled": false
   },
   "outputs": [
    {
     "data": {
      "text/plain": [
       "<AxesSubplot:>"
      ]
     },
     "execution_count": 293,
     "metadata": {},
     "output_type": "execute_result"
    },
    {
     "data": {
      "image/png": "[encoded data removed]",
      "text/plain": [
       "<Figure size 800x800 with 2 Axes>"
      ]
     },
     "metadata": {},
     "output_type": "display_data"
    }
   ],
   "source": [
    "a4_dims = (10, 10)\n",
    "fig, ax = plt.subplots(figsize=a4_dims)\n",
    "sns.heatmap(data.corr(), annot = True, cmap=\"RdYlBu\")"
   ]
  },
  {
   "cell_type": "markdown",
   "id": "afa5da97",
   "metadata": {},
   "source": [
    "Se puede observar que las variables no están muy correlacionadas entre sí"
   ]
  },
  {
   "cell_type": "code",
   "execution_count": 294,
   "id": "7467c7f6",
   "metadata": {
    "scrolled": false
   },
   "outputs": [
    {
     "data": {
      "text/plain": [
       "ID                     0.000000\n",
       "Customer_care_calls    0.391926\n",
       "Customer_rating        0.004360\n",
       "Cost_of_the_Product   -0.157117\n",
       "Prior_purchases        1.681897\n",
       "Discount_offered       1.798929\n",
       "Weight_in_gms         -0.249747\n",
       "On_time               -0.394257\n",
       "dtype: float64"
      ]
     },
     "execution_count": 294,
     "metadata": {},
     "output_type": "execute_result"
    }
   ],
   "source": [
    "#que será esto? skew es sesgo pero no se la verdad --> \"Return unbiased skew over requested axis.\"\n",
    "data.skew()"
   ]
  },
  {
   "cell_type": "code",
   "execution_count": 295,
   "id": "2b9d0711",
   "metadata": {
    "scrolled": false
   },
   "outputs": [
    {
     "data": {
      "text/plain": [
       "<AxesSubplot:xlabel='Customer_care_calls', ylabel='count'>"
      ]
     },
     "execution_count": 295,
     "metadata": {},
     "output_type": "execute_result"
    },
    {
     "data": {
      "image/png": "[encoded data removed]",
      "text/plain": [
       "<Figure size 640x480 with 1 Axes>"
      ]
     },
     "metadata": {},
     "output_type": "display_data"
    }
   ],
   "source": [
    "sns.countplot(x='Customer_care_calls',hue='On_time_means',data=data)\n",
    "# we can see there are more than 2000 instances where the customer has to call 4 times in order get the package delivered"
   ]
  },
  {
   "cell_type": "markdown",
   "id": "d34d2097",
   "metadata": {},
   "source": [
    "Veamos si el envío esta afectado por la importancia del producto"
   ]
  },
  {
   "cell_type": "markdown",
   "id": "0f08d168",
   "metadata": {},
   "source": [
    "###### Ojo con lo siguiente"
   ]
  },
  {
   "cell_type": "code",
   "execution_count": 296,
   "id": "f0583c12",
   "metadata": {},
   "outputs": [
    {
     "data": {
      "text/plain": [
       "<AxesSubplot:xlabel='Product_importance', ylabel='count'>"
      ]
     },
     "execution_count": 296,
     "metadata": {},
     "output_type": "execute_result"
    },
    {
     "data": {
      "image/png": "[encoded data removed]",
      "text/plain": [
       "<Figure size 640x480 with 1 Axes>"
      ]
     },
     "metadata": {},
     "output_type": "display_data"
    }
   ],
   "source": [
    "sns.countplot(x='Product_importance',hue='On_time_means',data=data)\n",
    "#Se puede observar que los productos con baja importancia, fueron envíos demorados ##(toto) no lo veo a eso jaja"
   ]
  },
  {
   "cell_type": "markdown",
   "id": "a2129caf",
   "metadata": {},
   "source": [
    "Hay outliers en precio?"
   ]
  },
  {
   "cell_type": "code",
   "execution_count": 297,
   "id": "1ebe12fc",
   "metadata": {},
   "outputs": [
    {
     "data": {
      "text/plain": [
       "<AxesSubplot:xlabel='Cost_of_the_Product'>"
      ]
     },
     "execution_count": 297,
     "metadata": {},
     "output_type": "execute_result"
    },
    {
     "data": {
      "image/png": "[encoded data removed]",
      "text/plain": [
       "<Figure size 640x480 with 1 Axes>"
      ]
     },
     "metadata": {},
     "output_type": "display_data"
    }
   ],
   "source": [
    "sns.boxplot(x='Cost_of_the_Product',data=data) #no outliers"
   ]
  },
  {
   "cell_type": "code",
   "execution_count": 299,
   "id": "fbb948df",
   "metadata": {},
   "outputs": [
    {
     "data": {
      "image/png": "[encoded data removed]",
      "text/plain": [
       "<Figure size 640x480 with 1 Axes>"
      ]
     },
     "metadata": {},
     "output_type": "display_data"
    }
   ],
   "source": [
    "ax = sns.countplot(x='Mode_of_Shipment',hue='On_time_means',data=data)\n",
    "# shipment is mostly done by ship"
   ]
  },
  {
   "cell_type": "code",
   "execution_count": 300,
   "id": "0a31a0d0",
   "metadata": {},
   "outputs": [],
   "source": [
    "#La columna ID no nos aporta nada asique la dropeamos\n",
    "data.drop(['ID'],inplace=True,axis=1)"
   ]
  },
  {
   "cell_type": "markdown",
   "id": "1ed1a2e9",
   "metadata": {},
   "source": [
    "Como no tenemos nulos, no tenemos nada que imputar y procedemos a dumificar"
   ]
  },
  {
   "cell_type": "markdown",
   "id": "d4f6f96b",
   "metadata": {},
   "source": [
    "###### Debemos dumificar las variables object"
   ]
  },
  {
   "cell_type": "code",
   "execution_count": 301,
   "id": "20456c3a",
   "metadata": {
    "scrolled": true
   },
   "outputs": [
    {
     "name": "stdout",
     "output_type": "stream",
     "text": [
      "(10999, 4)\n",
      "(10999, 2)\n",
      "(10999, 2)\n",
      "(10999, 1)\n"
     ]
    }
   ],
   "source": [
    "dummies_warehouse_block = pd.get_dummies(data.Warehouse_block, drop_first=True)\n",
    "print(dummies_warehouse_block.shape)\n",
    "dummies_mode_of_shipment = pd.get_dummies(data.Mode_of_Shipment, drop_first=True)\n",
    "print(dummies_mode_of_shipment.shape)\n",
    "dummies_product_importance = pd.get_dummies(data.Product_importance, drop_first=True)\n",
    "print(dummies_product_importance.shape)\n",
    "dummies_gender = pd.get_dummies(data.Gender, drop_first=True)\n",
    "print(dummies_gender.shape)"
   ]
  },
  {
   "cell_type": "code",
   "execution_count": 302,
   "id": "430a6e57",
   "metadata": {},
   "outputs": [],
   "source": [
    "data = pd.concat([data,dummies_warehouse_block,dummies_mode_of_shipment,dummies_product_importance,dummies_gender], axis=1)\n",
    "data.drop([\"Warehouse_block\",\"Mode_of_Shipment\",\"Product_importance\",\"Gender\"],axis=1, inplace=True)"
   ]
  },
  {
   "cell_type": "code",
   "execution_count": 303,
   "id": "26ab34df",
   "metadata": {
    "scrolled": true
   },
   "outputs": [
    {
     "data": {
      "text/html": [
       "<div>\n",
       "<style scoped>\n",
       "    .dataframe tbody tr th:only-of-type {\n",
       "        vertical-align: middle;\n",
       "    }\n",
       "\n",
       "    .dataframe tbody tr th {\n",
       "        vertical-align: top;\n",
       "    }\n",
       "\n",
       "    .dataframe thead th {\n",
       "        text-align: right;\n",
       "    }\n",
       "</style>\n",
       "<table border=\"1\" class=\"dataframe\">\n",
       "  <thead>\n",
       "    <tr style=\"text-align: right;\">\n",
       "      <th></th>\n",
       "      <th>Customer_care_calls</th>\n",
       "      <th>Customer_rating</th>\n",
       "      <th>Cost_of_the_Product</th>\n",
       "      <th>Prior_purchases</th>\n",
       "      <th>Discount_offered</th>\n",
       "      <th>Weight_in_gms</th>\n",
       "      <th>On_time</th>\n",
       "      <th>On_time_means</th>\n",
       "      <th>B</th>\n",
       "      <th>C</th>\n",
       "      <th>D</th>\n",
       "      <th>F</th>\n",
       "      <th>Road</th>\n",
       "      <th>Ship</th>\n",
       "      <th>low</th>\n",
       "      <th>medium</th>\n",
       "      <th>M</th>\n",
       "    </tr>\n",
       "  </thead>\n",
       "  <tbody>\n",
       "    <tr>\n",
       "      <th>0</th>\n",
       "      <td>4</td>\n",
       "      <td>2</td>\n",
       "      <td>177</td>\n",
       "      <td>3</td>\n",
       "      <td>44</td>\n",
       "      <td>1233</td>\n",
       "      <td>1</td>\n",
       "      <td>delayed</td>\n",
       "      <td>0</td>\n",
       "      <td>0</td>\n",
       "      <td>1</td>\n",
       "      <td>0</td>\n",
       "      <td>0</td>\n",
       "      <td>0</td>\n",
       "      <td>1</td>\n",
       "      <td>0</td>\n",
       "      <td>0</td>\n",
       "    </tr>\n",
       "    <tr>\n",
       "      <th>1</th>\n",
       "      <td>4</td>\n",
       "      <td>5</td>\n",
       "      <td>216</td>\n",
       "      <td>2</td>\n",
       "      <td>59</td>\n",
       "      <td>3088</td>\n",
       "      <td>1</td>\n",
       "      <td>delayed</td>\n",
       "      <td>0</td>\n",
       "      <td>0</td>\n",
       "      <td>0</td>\n",
       "      <td>1</td>\n",
       "      <td>0</td>\n",
       "      <td>0</td>\n",
       "      <td>1</td>\n",
       "      <td>0</td>\n",
       "      <td>1</td>\n",
       "    </tr>\n",
       "    <tr>\n",
       "      <th>2</th>\n",
       "      <td>2</td>\n",
       "      <td>2</td>\n",
       "      <td>183</td>\n",
       "      <td>4</td>\n",
       "      <td>48</td>\n",
       "      <td>3374</td>\n",
       "      <td>1</td>\n",
       "      <td>delayed</td>\n",
       "      <td>0</td>\n",
       "      <td>0</td>\n",
       "      <td>0</td>\n",
       "      <td>0</td>\n",
       "      <td>0</td>\n",
       "      <td>0</td>\n",
       "      <td>1</td>\n",
       "      <td>0</td>\n",
       "      <td>1</td>\n",
       "    </tr>\n",
       "    <tr>\n",
       "      <th>3</th>\n",
       "      <td>3</td>\n",
       "      <td>3</td>\n",
       "      <td>176</td>\n",
       "      <td>4</td>\n",
       "      <td>10</td>\n",
       "      <td>1177</td>\n",
       "      <td>1</td>\n",
       "      <td>delayed</td>\n",
       "      <td>1</td>\n",
       "      <td>0</td>\n",
       "      <td>0</td>\n",
       "      <td>0</td>\n",
       "      <td>0</td>\n",
       "      <td>0</td>\n",
       "      <td>0</td>\n",
       "      <td>1</td>\n",
       "      <td>1</td>\n",
       "    </tr>\n",
       "    <tr>\n",
       "      <th>4</th>\n",
       "      <td>2</td>\n",
       "      <td>2</td>\n",
       "      <td>184</td>\n",
       "      <td>3</td>\n",
       "      <td>46</td>\n",
       "      <td>2484</td>\n",
       "      <td>1</td>\n",
       "      <td>delayed</td>\n",
       "      <td>0</td>\n",
       "      <td>1</td>\n",
       "      <td>0</td>\n",
       "      <td>0</td>\n",
       "      <td>0</td>\n",
       "      <td>0</td>\n",
       "      <td>0</td>\n",
       "      <td>1</td>\n",
       "      <td>0</td>\n",
       "    </tr>\n",
       "  </tbody>\n",
       "</table>\n",
       "</div>"
      ],
      "text/plain": [
       "   Customer_care_calls  Customer_rating  Cost_of_the_Product  Prior_purchases  \\\n",
       "0                    4                2                  177                3   \n",
       "1                    4                5                  216                2   \n",
       "2                    2                2                  183                4   \n",
       "3                    3                3                  176                4   \n",
       "4                    2                2                  184                3   \n",
       "\n",
       "   Discount_offered  Weight_in_gms  On_time On_time_means  B  C  D  F  Road  \\\n",
       "0                44           1233        1       delayed  0  0  1  0     0   \n",
       "1                59           3088        1       delayed  0  0  0  1     0   \n",
       "2                48           3374        1       delayed  0  0  0  0     0   \n",
       "3                10           1177        1       delayed  1  0  0  0     0   \n",
       "4                46           2484        1       delayed  0  1  0  0     0   \n",
       "\n",
       "   Ship  low  medium  M  \n",
       "0     0    1       0  0  \n",
       "1     0    1       0  1  \n",
       "2     0    1       0  1  \n",
       "3     0    0       1  1  \n",
       "4     0    0       1  0  "
      ]
     },
     "execution_count": 303,
     "metadata": {},
     "output_type": "execute_result"
    }
   ],
   "source": [
    "data.head()"
   ]
  },
  {
   "cell_type": "markdown",
   "id": "9841747f",
   "metadata": {},
   "source": [
    "#### Gráficos"
   ]
  },
  {
   "cell_type": "code",
   "execution_count": 304,
   "id": "ba38d814",
   "metadata": {},
   "outputs": [],
   "source": [
    "#basic_plots(data)\n",
    "#basic_hists(data)\n",
    "#basic_boxplots(data)"
   ]
  },
  {
   "cell_type": "markdown",
   "id": "5bed6b22",
   "metadata": {},
   "source": [
    "#### Modelos"
   ]
  },
  {
   "cell_type": "code",
   "execution_count": 305,
   "id": "ede40172",
   "metadata": {},
   "outputs": [
    {
     "data": {
      "text/plain": [
       "delayed    0.596691\n",
       "on_time    0.403309\n",
       "Name: On_time_means, dtype: float64"
      ]
     },
     "execution_count": 305,
     "metadata": {},
     "output_type": "execute_result"
    }
   ],
   "source": [
    "#para ver si estan balanceadas\n",
    "data.On_time_means.value_counts(normalize = True)"
   ]
  },
  {
   "cell_type": "code",
   "execution_count": 306,
   "id": "fad1040f",
   "metadata": {
    "scrolled": true
   },
   "outputs": [
    {
     "name": "stdout",
     "output_type": "stream",
     "text": [
      "X_train: (7369, 15)\n",
      "y_train: (7369,)\n",
      "X_test:  (3630, 15)\n",
      "y_test : (3630,)\n"
     ]
    }
   ],
   "source": [
    "X = data.drop(['On_time', 'On_time_means'], axis=1)\n",
    "y = data['On_time']\n",
    "\n",
    "X_train, X_test, y_train, y_test = train_test_split(X, y, test_size=0.33, random_state=1, stratify = y)\n",
    "\n",
    "print(\"X_train:\", X_train.shape)\n",
    "print(\"y_train:\", y_train.shape)\n",
    "print(\"X_test: \", X_test.shape)\n",
    "print(\"y_test :\", y_test.shape)"
   ]
  },
  {
   "cell_type": "code",
   "execution_count": 307,
   "id": "9628de60",
   "metadata": {},
   "outputs": [
    {
     "data": {
      "text/plain": [
       "1    0.596689\n",
       "0    0.403311\n",
       "Name: On_time, dtype: float64"
      ]
     },
     "execution_count": 307,
     "metadata": {},
     "output_type": "execute_result"
    }
   ],
   "source": [
    "y_train.value_counts(normalize = True)"
   ]
  },
  {
   "cell_type": "code",
   "execution_count": 308,
   "id": "c5cbf6e8",
   "metadata": {},
   "outputs": [
    {
     "data": {
      "text/plain": [
       "1    0.596694\n",
       "0    0.403306\n",
       "Name: On_time, dtype: float64"
      ]
     },
     "execution_count": 308,
     "metadata": {},
     "output_type": "execute_result"
    }
   ],
   "source": [
    "y_test.value_counts(normalize = True)"
   ]
  },
  {
   "cell_type": "code",
   "execution_count": 309,
   "id": "d4ccda89",
   "metadata": {},
   "outputs": [],
   "source": [
    "class Model() :\n",
    "    u'''\n",
    "    Practice plain object\n",
    "    '''\n",
    "    def __init__(self, name, model) :\n",
    "        u'''\n",
    "        Object intializacion \n",
    "        '''\n",
    "    \n",
    "        self.name = name\n",
    "        self.model = model\n",
    "        self.accuracy = 0\n",
    "        self.auc_roc = 0\n",
    "        self.confusion = None\n",
    "        return\n",
    "    \n",
    "    def __str__(self) :\n",
    "        u'''\n",
    "        String representation\n",
    "        '''\n",
    "        return self.name + \\\n",
    "        'Accuracy: ' + str(self.accuracy) + \\\n",
    "        'AUC ROC : ' + str(self.auc_roc)"
   ]
  },
  {
   "cell_type": "code",
   "execution_count": 310,
   "id": "d19530d7",
   "metadata": {},
   "outputs": [],
   "source": [
    "# definir los modelos a entrenar\n",
    "models = []\n",
    "models.append( Model('Regresión Logística', LogisticRegression() ) )\n",
    "models.append( Model('k-vecinos más Cercanos', KNeighborsClassifier() ) )\n",
    "models.append( Model('Naive Bayes Gaussiano', GaussianNB() ) )"
   ]
  },
  {
   "cell_type": "code",
   "execution_count": 311,
   "id": "2bc9551b",
   "metadata": {},
   "outputs": [],
   "source": [
    "# entrenar los modelos y capturar los resultados\n",
    "for m in models :\n",
    "    m.model.fit(X_train, y_train)\n",
    "    y_pred = m.model.predict(X_test)\n",
    "    m.accuracy = metrics.accuracy_score(y_test, y_pred)\n",
    "    fpr, tpr, _ = metrics.roc_curve(y_test, y_pred)\n",
    "    m.auc_roc = metrics.auc(fpr, tpr)\n",
    "    m.confusion = confusion_matrix(y_test, y_pred)"
   ]
  },
  {
   "cell_type": "markdown",
   "id": "fc82da1a",
   "metadata": {},
   "source": [
    "#### Resultados"
   ]
  },
  {
   "cell_type": "code",
   "execution_count": 312,
   "id": "4bfa6984",
   "metadata": {},
   "outputs": [
    {
     "data": {
      "text/html": [
       "<div>\n",
       "<style scoped>\n",
       "    .dataframe tbody tr th:only-of-type {\n",
       "        vertical-align: middle;\n",
       "    }\n",
       "\n",
       "    .dataframe tbody tr th {\n",
       "        vertical-align: top;\n",
       "    }\n",
       "\n",
       "    .dataframe thead tr th {\n",
       "        text-align: left;\n",
       "    }\n",
       "</style>\n",
       "<table border=\"1\" class=\"dataframe\">\n",
       "  <thead>\n",
       "    <tr>\n",
       "      <th></th>\n",
       "      <th>Model</th>\n",
       "      <th>Accuracy</th>\n",
       "      <th>AUC-ROC</th>\n",
       "    </tr>\n",
       "  </thead>\n",
       "  <tbody>\n",
       "    <tr>\n",
       "      <th>0</th>\n",
       "      <td>Regresión Logística</td>\n",
       "      <td>0.625344</td>\n",
       "      <td>0.615437</td>\n",
       "    </tr>\n",
       "    <tr>\n",
       "      <th>0</th>\n",
       "      <td>k-vecinos más Cercanos</td>\n",
       "      <td>0.648485</td>\n",
       "      <td>0.641580</td>\n",
       "    </tr>\n",
       "    <tr>\n",
       "      <th>0</th>\n",
       "      <td>Naive Bayes Gaussiano</td>\n",
       "      <td>0.649311</td>\n",
       "      <td>0.702598</td>\n",
       "    </tr>\n",
       "  </tbody>\n",
       "</table>\n",
       "</div>"
      ],
      "text/plain": [
       "                    Model  Accuracy   AUC-ROC\n",
       "0     Regresión Logística  0.625344  0.615437\n",
       "0  k-vecinos más Cercanos  0.648485  0.641580\n",
       "0   Naive Bayes Gaussiano  0.649311  0.702598"
      ]
     },
     "metadata": {},
     "output_type": "display_data"
    }
   ],
   "source": [
    "def show_metrics(models) :\n",
    "    u'''\n",
    "    \n",
    "    '''\n",
    "    df = pd.DataFrame()\n",
    "    for m in models :\n",
    "        '''\n",
    "        df = df.append( pd.DataFrame(\n",
    "            columns=['Modelo', 'Accuracy', 'AUC-ROC'], \n",
    "            data=[ m.name, m.accuracy, m.auc_roc ]) )\n",
    "        '''\n",
    "        df = pd.concat([df, pd.DataFrame(columns=[['Model', 'Accuracy', 'AUC-ROC']], data=[[ m.name, m.accuracy, m.auc_roc ]])], axis=0)\n",
    "    display(df)\n",
    "    return\n",
    "\n",
    "show_metrics(models)"
   ]
  },
  {
   "cell_type": "code",
   "execution_count": 222,
   "id": "de2b8731",
   "metadata": {},
   "outputs": [
    {
     "name": "stderr",
     "output_type": "stream",
     "text": [
      "/var/folders/38/p7ql9b491vbf8r_ywxt8j7ym0000gp/T/ipykernel_38469/1957268635.py:14: MatplotlibDeprecationWarning: Passing non-integers as three-element position specification is deprecated since 3.3 and will be removed two minor releases later.\n",
      "  plt.subplot(rows, cols, i+1)\n"
     ]
    },
    {
     "data": {
      "image/png": "[encoded data removed]",
      "text/plain": [
       "<Figure size 800x800 with 6 Axes>"
      ]
     },
     "metadata": {},
     "output_type": "display_data"
    }
   ],
   "source": [
    "def show_confusion_matrix(models, cols=4) :\n",
    "    u'''\n",
    "    Display some confusion matrix graphs\n",
    "\n",
    "    args\n",
    "        models : list ob models objects\n",
    "        cols : number of columns for the subplot; default is 4\n",
    "    \n",
    "    '''\n",
    "    \n",
    "    rows = (len(models) / cols) + 1\n",
    "    \n",
    "    for i, m in enumerate(models) :\n",
    "        plt.subplot(rows, cols, i+1)\n",
    "        sns.heatmap(pd.DataFrame(data=m.confusion, \n",
    "                                 index=['Actual On time', 'Actual Delayed'],\n",
    "                                 columns=['Predict On Time', 'Predict Delayed'] ), \n",
    "                    annot=True, center=0, fmt='d', cmap='YlGnBu')\n",
    "        plt.tight_layout();\n",
    "        plt.title(m.name);\n",
    "        plt.ylabel(None)\n",
    "        plt.xlabel(None)\n",
    "        \n",
    "    return\n",
    "\n",
    "fig = plt.figure(figsize=(10,10));\n",
    "fig.suptitle('Matrices de confusión', \n",
    "             verticalalignment='center', fontsize='xx-large', fontweight='extra bold')\n",
    "show_confusion_matrix(models, 1)"
   ]
  }
 ],
 "metadata": {
  "kernelspec": {
   "display_name": "Python [conda env:dhdsblend2021] *",
   "language": "python",
   "name": "conda-env-dhdsblend2021-py"
  },
  "language_info": {
   "codemirror_mode": {
    "name": "ipython",
    "version": 3
   },
   "file_extension": ".py",
   "mimetype": "text/x-python",
   "name": "python",
   "nbconvert_exporter": "python",
   "pygments_lexer": "ipython3",
   "version": "3.8.13"
  }
 },
 "nbformat": 4,
 "nbformat_minor": 5
}
